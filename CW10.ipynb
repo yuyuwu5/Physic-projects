{
 "cells": [
  {
   "cell_type": "markdown",
   "metadata": {},
   "source": [
    "# CW10: Motion in a Dipole Field\n",
    "\n",
    "## Objectives\n",
    "Dipoles, whether permanent or induced, play a key role in many electric interactions. In chapter 13 we found an\n",
    "analytical expression for the approximate electric field of a dipole at a restricted set of locations{along its axis and\n",
    "perpendicular axis{but not at other locations. Here you will first calculate the exact electric field of a dipole numerically at many locations, and predict the motion of a proton in a region near a dipole.\n",
    "After completing this activity you should be able to:\n",
    "* Calculate and display the net electric field of several source charges, at many observation locations\n",
    "* Animate the motion of one or more charges under the influence of an electric field due to several source charges\n",
    "* Monitor the sum of kinetic and potential energy for the system to check the accuracy of model predictions\n",
    "\n",
    "Reference: [Jupyter VPython Documentation](http://www.glowscript.org/docs/VPythonDocs/index.html)\n",
    "\n"
   ]
  },
  {
   "cell_type": "markdown",
   "metadata": {},
   "source": [
    "## A Dipole\n",
    "Study the code below. Identify the orientation of the dipole axis, charge and dipole separation."
   ]
  },
  {
   "cell_type": "code",
   "execution_count": 1,
   "metadata": {
    "scrolled": true
   },
   "outputs": [
    {
     "data": {
      "application/javascript": [
       "require.undef(\"nbextensions/vpython_libraries/glow.min\");"
      ],
      "text/plain": [
       "<IPython.core.display.Javascript object>"
      ]
     },
     "metadata": {},
     "output_type": "display_data"
    },
    {
     "data": {
      "application/javascript": [
       "require.undef(\"nbextensions/vpython_libraries/glowcomm\");"
      ],
      "text/plain": [
       "<IPython.core.display.Javascript object>"
      ]
     },
     "metadata": {},
     "output_type": "display_data"
    },
    {
     "data": {
      "application/javascript": [
       "require.undef(\"nbextensions/vpython_libraries/jquery-ui.custom.min\");"
      ],
      "text/plain": [
       "<IPython.core.display.Javascript object>"
      ]
     },
     "metadata": {},
     "output_type": "display_data"
    },
    {
     "data": {
      "application/javascript": [
       "require([\"nbextensions/vpython_libraries/glow.min\"], function(){console.log(\"GLOW LOADED\");})"
      ],
      "text/plain": [
       "<IPython.core.display.Javascript object>"
      ]
     },
     "metadata": {},
     "output_type": "display_data"
    },
    {
     "data": {
      "application/javascript": [
       "require([\"nbextensions/vpython_libraries/glowcomm\"], function(){console.log(\"GLOWCOMM LOADED\");})"
      ],
      "text/plain": [
       "<IPython.core.display.Javascript object>"
      ]
     },
     "metadata": {},
     "output_type": "display_data"
    },
    {
     "data": {
      "application/javascript": [
       "require([\"nbextensions/vpython_libraries/jquery-ui.custom.min\"], function(){console.log(\"JQUERY LOADED\");})"
      ],
      "text/plain": [
       "<IPython.core.display.Javascript object>"
      ]
     },
     "metadata": {},
     "output_type": "display_data"
    },
    {
     "data": {
      "text/html": [
       "<div id=\"glowscript\" class=\"glowscript\"></div>"
      ],
      "text/plain": [
       "<IPython.core.display.HTML object>"
      ]
     },
     "metadata": {},
     "output_type": "display_data"
    },
    {
     "data": {
      "application/javascript": [
       "window.__context = { glowscript_container: $(\"#glowscript\").removeAttr(\"id\")}"
      ],
      "text/plain": [
       "<IPython.core.display.Javascript object>"
      ]
     },
     "metadata": {},
     "output_type": "display_data"
    },
    {
     "data": {
      "text/html": [
       "<div id=\"glowscript\" class=\"glowscript\"></div>"
      ],
      "text/plain": [
       "<IPython.core.display.HTML object>"
      ]
     },
     "metadata": {},
     "output_type": "display_data"
    },
    {
     "data": {
      "application/javascript": [
       "window.__context = { glowscript_container: $(\"#glowscript\").removeAttr(\"id\")}"
      ],
      "text/plain": [
       "<IPython.core.display.Javascript object>"
      ]
     },
     "metadata": {},
     "output_type": "display_data"
    }
   ],
   "source": [
    "from vpython import *\n",
    "scene=canvas(width=600,height=600)## constants\n",
    "oofpez = 9e9 # stands for One Over Four Pi Epsilon-Zero\n",
    "qe = 1.6e-19\n",
    "s = 4e-11\n",
    "scalefactor = 1.0 # you may need to change this\n",
    "p1 = sphere(pos=vector(0,s/2,0), radius=1e-11, color=color.red)\n",
    "q1 = qe\n",
    "p2 = sphere(pos=vector(0,-s/2,0), radius=1e-11, color=color.blue)\n",
    "q2 = -qe"
   ]
  },
  {
   "cell_type": "code",
   "execution_count": 2,
   "metadata": {},
   "outputs": [
    {
     "data": {
      "text/html": [
       "<div id=\"glowscript\" class=\"glowscript\"></div>"
      ],
      "text/plain": [
       "<IPython.core.display.HTML object>"
      ]
     },
     "metadata": {},
     "output_type": "display_data"
    },
    {
     "data": {
      "application/javascript": [
       "window.__context = { glowscript_container: $(\"#glowscript\").removeAttr(\"id\")}"
      ],
      "text/plain": [
       "<IPython.core.display.Javascript object>"
      ]
     },
     "metadata": {},
     "output_type": "display_data"
    }
   ],
   "source": [
    "## for plottinge\n",
    "graphs=canvas(x=600, width=600) \n",
    "Ug = gcurve(color=color.yellow)\n",
    "Kg = gcurve(color=color.cyan)\n",
    "KUg = gcurve(color=color.magenta)"
   ]
  },
  {
   "cell_type": "markdown",
   "metadata": {},
   "source": [
    "## Calculating $\\mathbf{E}$ at Many Observation Locations\n",
    "\n",
    "To display the pattern of electric field surrounding a dipole, we will create many arrows whose tails lie on a circle\n",
    "surrounding the dipole.\n",
    "* Calculate and display the electric field of the dipole at 12 evenly spaced locations on a circle of radius $3\\times10^{-10}$m, lying in the xy plane and centered on the dipole.\n",
    "* Add a second circle of observation locations in the yz plane.\n"
   ]
  },
  {
   "cell_type": "markdown",
   "metadata": {},
   "source": [
    "## Motion of a Proton\n",
    "* Add a proton, at rest, at location $-\\langle 3s, 0, 0\\rangle$. Make it leave a trail by setting make `trail=True` in the constructor.\n",
    "* Animate the motion of the proton under the influence of the dipole's electric field.\n",
    "* Use a value of about $1\\times10^{-17}$s for $\\Delta t$, and rate(300)."
   ]
  },
  {
   "cell_type": "markdown",
   "metadata": {},
   "source": [
    "##  Using Energy as a Check\n",
    "You may wonder if the trajectories you observe are reasonable. Recall that significant errors can occur if the proton\n",
    "gets into a region where the field is very large. Under that circumstance, the approximation that $\\mathbf{E}$\n",
    "is approximately constant during one time step may no longer be valid, and predictions of motion may be very inaccurate. As discussed in Section 6.15, to check the accuracy of our predictions we can monitor the sum of $(K + U)$. \n",
    "In a closed system with no external energy inputs, we should expect that $(K + U)\\approx$ constant.\n",
    "\n",
    "* For each step inside your motion loop, calculate the kinetic energy of the proton and the electric potential energy of the system of (proton + dipole charges). You need not include the potential energy associated with the interaction of the charges making up the dipole{this can be considered part of the internal energy of the dipole, and will not change because the dipole separation will not change.\n",
    "\n",
    "* Plot $K$ of the proton, $U$ of the (proton + dipole) system, and the sum of $(K + U)$ as a function of $t$:\n",
    "\n"
   ]
  },
  {
   "cell_type": "code",
   "execution_count": null,
   "metadata": {
    "collapsed": true
   },
   "outputs": [],
   "source": [
    "t = 0\n",
    "dt = \n",
    "## you should put a loop for update\n",
    "## Example for plotting\n",
    "Kg.plot(pos=(t,K))\n",
    "Ug.plot(pos=(t,U))\n",
    "KUg.plot(pos=(t,K+U))\n"
   ]
  },
  {
   "cell_type": "markdown",
   "metadata": {},
   "source": [
    "* Terminate the loop at a value of t suffciently small that you can examine the details of your graphs (for example, after 3 periods if the motion is periodic).\n"
   ]
  },
  {
   "cell_type": "markdown",
   "metadata": {},
   "source": [
    "## 5 To-do list\n",
    "\n",
    "1. Display the electric field pattern of a dipole. (Finish in class)\n",
    "2. Animate the motion of a proton under the in uence of a dipole.\n",
    "3. Plot K, U, and K + U."
   ]
  },
  {
   "cell_type": "code",
   "execution_count": null,
   "metadata": {},
   "outputs": [
    {
     "data": {
      "application/javascript": [
       "require.undef(\"nbextensions/vpython_libraries/glow.min\");"
      ],
      "text/plain": [
       "<IPython.core.display.Javascript object>"
      ]
     },
     "metadata": {},
     "output_type": "display_data"
    },
    {
     "data": {
      "application/javascript": [
       "require.undef(\"nbextensions/vpython_libraries/glowcomm\");"
      ],
      "text/plain": [
       "<IPython.core.display.Javascript object>"
      ]
     },
     "metadata": {},
     "output_type": "display_data"
    },
    {
     "data": {
      "application/javascript": [
       "require.undef(\"nbextensions/vpython_libraries/jquery-ui.custom.min\");"
      ],
      "text/plain": [
       "<IPython.core.display.Javascript object>"
      ]
     },
     "metadata": {},
     "output_type": "display_data"
    },
    {
     "data": {
      "application/javascript": [
       "require([\"nbextensions/vpython_libraries/glow.min\"], function(){console.log(\"GLOW LOADED\");})"
      ],
      "text/plain": [
       "<IPython.core.display.Javascript object>"
      ]
     },
     "metadata": {},
     "output_type": "display_data"
    },
    {
     "data": {
      "application/javascript": [
       "require([\"nbextensions/vpython_libraries/glowcomm\"], function(){console.log(\"GLOWCOMM LOADED\");})"
      ],
      "text/plain": [
       "<IPython.core.display.Javascript object>"
      ]
     },
     "metadata": {},
     "output_type": "display_data"
    },
    {
     "data": {
      "application/javascript": [
       "require([\"nbextensions/vpython_libraries/jquery-ui.custom.min\"], function(){console.log(\"JQUERY LOADED\");})"
      ],
      "text/plain": [
       "<IPython.core.display.Javascript object>"
      ]
     },
     "metadata": {},
     "output_type": "display_data"
    },
    {
     "data": {
      "text/html": [
       "<div id=\"glowscript\" class=\"glowscript\"></div>"
      ],
      "text/plain": [
       "<IPython.core.display.HTML object>"
      ]
     },
     "metadata": {},
     "output_type": "display_data"
    },
    {
     "data": {
      "application/javascript": [
       "window.__context = { glowscript_container: $(\"#glowscript\").removeAttr(\"id\")}"
      ],
      "text/plain": [
       "<IPython.core.display.Javascript object>"
      ]
     },
     "metadata": {},
     "output_type": "display_data"
    },
    {
     "data": {
      "text/html": [
       "<div id=\"glowscript\" class=\"glowscript\"></div>"
      ],
      "text/plain": [
       "<IPython.core.display.HTML object>"
      ]
     },
     "metadata": {},
     "output_type": "display_data"
    },
    {
     "data": {
      "application/javascript": [
       "window.__context = { glowscript_container: $(\"#glowscript\").removeAttr(\"id\")}"
      ],
      "text/plain": [
       "<IPython.core.display.Javascript object>"
      ]
     },
     "metadata": {},
     "output_type": "display_data"
    },
    {
     "data": {
      "text/html": [
       "<div id=\"glowscript\" class=\"glowscript\"></div>"
      ],
      "text/plain": [
       "<IPython.core.display.HTML object>"
      ]
     },
     "metadata": {},
     "output_type": "display_data"
    },
    {
     "data": {
      "application/javascript": [
       "window.__context = { glowscript_container: $(\"#glowscript\").removeAttr(\"id\")}"
      ],
      "text/plain": [
       "<IPython.core.display.Javascript object>"
      ]
     },
     "metadata": {},
     "output_type": "display_data"
    }
   ],
   "source": [
    "from vpython import *\n",
    "scene=canvas(width=600,height=600)## constants\n",
    "oofpez = 9e9 # stands for One Over Four Pi Epsilon-Zero\n",
    "qe = 1.6e-19\n",
    "s = 4e-11\n",
    "scalefactor =4e-20# you may need to change this\n",
    "p1 = sphere(pos=vector(0,s/2,0), radius=1e-11, color=color.red)\n",
    "q1 = qe\n",
    "p2 = sphere(pos=vector(0,-s/2,0), radius=1e-11, color=color.blue)\n",
    "q2 = -qe\n",
    "circle=3e-10\n",
    "\n",
    "def field(pos):\n",
    "    return oofpez*q1/(mag(pos-p1.pos)**2)*norm(pos-p1.pos)+oofpez*q2/(mag(pos-p2.pos)**2)*norm(pos-p2.pos)\n",
    "i=0\n",
    "while i<360:\n",
    "    x=field(circle*vector(cos(i),sin(i),0))\n",
    "    arrow(pos=circle*vector(cos(i),sin(i),0),axis=x*scalefactor,color=color.orange)\n",
    "    i+=30\n",
    "i=0\n",
    "while i<360:\n",
    "    x=field(circle*vector(0,sin(i),cos(i)))\n",
    "    arrow(pos=circle*vector(0,sin(i),cos(i)),axis=x*scalefactor,color=color.orange)\n",
    "    i+=30\n",
    "t=0\n",
    "dt=1e-17\n",
    "proton=sphere(pos=vector(-3*s,0,0),radius=1e-11,color=color.yellow,make_trail=True)\n",
    "m=1.6726219e-27\n",
    "p=qe*field(proton.pos)*dt\n",
    "\n",
    "## for plottinge\n",
    "graphs=canvas(x=600, width=600) \n",
    "Ug = gcurve(color=color.yellow)\n",
    "Kg = gcurve(color=color.cyan)\n",
    "KUg = gcurve(color=color.magenta)\n",
    "\n",
    "\n",
    "while True:\n",
    "    rate(300)\n",
    "    f=qe*field(proton.pos)\n",
    "    p+=f*dt\n",
    "    proton.pos+=(p/m)*dt\n",
    "    K=0.5*m*(mag(p)/m)**2\n",
    "    U=oofpez*q1*qe/mag(proton.pos-p1.pos)+oofpez*q2*qe/mag(proton.pos-p2.pos)\n",
    "    Kg.plot(pos=(t,K))\n",
    "    Ug.plot(pos=(t,U))\n",
    "    KUg.plot(pos=(t,K+U))\n",
    "    t+=dt"
   ]
  },
  {
   "cell_type": "code",
   "execution_count": null,
   "metadata": {
    "collapsed": true
   },
   "outputs": [],
   "source": []
  },
  {
   "cell_type": "code",
   "execution_count": null,
   "metadata": {
    "collapsed": true
   },
   "outputs": [],
   "source": []
  }
 ],
 "metadata": {
  "anaconda-cloud": {},
  "kernelspec": {
   "display_name": "VPython",
   "language": "python",
   "name": "vpython"
  },
  "language_info": {
   "codemirror_mode": {
    "name": "ipython",
    "version": 3
   },
   "file_extension": ".py",
   "mimetype": "text/x-python",
   "name": "python",
   "nbconvert_exporter": "python",
   "pygments_lexer": "ipython3",
   "version": "3.6.2"
  }
 },
 "nbformat": 4,
 "nbformat_minor": 1
}
