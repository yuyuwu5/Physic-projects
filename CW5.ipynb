{
 "cells": [
  {
   "cell_type": "markdown",
   "metadata": {},
   "source": [
    "# Computer Homework 5: A Spring-Mass System\n",
    "\n",
    "## Objective\n",
    "\n",
    "\n",
    "After completing this activity you should be able to:\n",
    "\n",
    "\n",
    "* Explain the flow of energy in a vertically oscillating spring-mass system.\n",
    "* Explain the shape of a graph of $K+U$ for a spring-mass system subject to a dissipative force (either air resistance, viscous friction, or sliding friction).\n",
    "\n",
    "Reference: [Jupyter VPython Documentation](http://www.glowscript.org/docs/VPythonDocs/index.html)\n",
    "\n"
   ]
  },
  {
   "cell_type": "markdown",
   "metadata": {},
   "source": [
    "\n",
    "## Problem 1\n",
    "\n",
    "* Run the program below. Modify the program so it is an accurate model of a spring-mass system. \n",
    "* Graph the $y$-component of the ball's position as a function of time. \n",
    "\n"
   ]
  },
  {
   "cell_type": "code",
   "execution_count": 1,
   "metadata": {},
   "outputs": [
    {
     "data": {
      "application/javascript": [
       "require.undef(\"nbextensions/vpython_libraries/glow.min\");"
      ],
      "text/plain": [
       "<IPython.core.display.Javascript object>"
      ]
     },
     "metadata": {},
     "output_type": "display_data"
    },
    {
     "data": {
      "application/javascript": [
       "require.undef(\"nbextensions/vpython_libraries/glowcomm\");"
      ],
      "text/plain": [
       "<IPython.core.display.Javascript object>"
      ]
     },
     "metadata": {},
     "output_type": "display_data"
    },
    {
     "data": {
      "application/javascript": [
       "require.undef(\"nbextensions/vpython_libraries/jquery-ui.custom.min\");"
      ],
      "text/plain": [
       "<IPython.core.display.Javascript object>"
      ]
     },
     "metadata": {},
     "output_type": "display_data"
    },
    {
     "data": {
      "application/javascript": [
       "require([\"nbextensions/vpython_libraries/glow.min\"], function(){console.log(\"GLOW LOADED\");})"
      ],
      "text/plain": [
       "<IPython.core.display.Javascript object>"
      ]
     },
     "metadata": {},
     "output_type": "display_data"
    },
    {
     "data": {
      "application/javascript": [
       "require([\"nbextensions/vpython_libraries/glowcomm\"], function(){console.log(\"GLOWCOMM LOADED\");})"
      ],
      "text/plain": [
       "<IPython.core.display.Javascript object>"
      ]
     },
     "metadata": {},
     "output_type": "display_data"
    },
    {
     "data": {
      "application/javascript": [
       "require([\"nbextensions/vpython_libraries/jquery-ui.custom.min\"], function(){console.log(\"JQUERY LOADED\");})"
      ],
      "text/plain": [
       "<IPython.core.display.Javascript object>"
      ]
     },
     "metadata": {},
     "output_type": "display_data"
    },
    {
     "data": {
      "text/html": [
       "<div id=\"glowscript\" class=\"glowscript\"></div>"
      ],
      "text/plain": [
       "<IPython.core.display.HTML object>"
      ]
     },
     "metadata": {},
     "output_type": "display_data"
    },
    {
     "data": {
      "application/javascript": [
       "window.__context = { glowscript_container: $(\"#glowscript\").removeAttr(\"id\")}"
      ],
      "text/plain": [
       "<IPython.core.display.Javascript object>"
      ]
     },
     "metadata": {},
     "output_type": "display_data"
    },
    {
     "data": {
      "text/html": [
       "<div id=\"glowscript\" class=\"glowscript\"></div>"
      ],
      "text/plain": [
       "<IPython.core.display.HTML object>"
      ]
     },
     "metadata": {},
     "output_type": "display_data"
    },
    {
     "data": {
      "application/javascript": [
       "window.__context = { glowscript_container: $(\"#glowscript\").removeAttr(\"id\")}"
      ],
      "text/plain": [
       "<IPython.core.display.Javascript object>"
      ]
     },
     "metadata": {},
     "output_type": "display_data"
    }
   ],
   "source": [
    "from vpython import *\n",
    "scene1=canvas(width=400,height=500,align='left',title='Click to start') # Create a canvas for 3D graphics, align to the left\n",
    "g=graph(width=400,height=400,align='right') # Create a graph for plotting, align to the right\n",
    "gc=gcurve(graph=g,color=color.cyan) # Plotting data points using gcurve\n"
   ]
  },
  {
   "cell_type": "code",
   "execution_count": 2,
   "metadata": {
    "collapsed": true
   },
   "outputs": [],
   "source": [
    "\n",
    "## constants and data\n",
    "g = 9.8\n",
    "mball = 0.03\n",
    "L0 = 0.26\n",
    "ks = 1.8\n",
    "deltat = 0.01  \n",
    "## objects (origin is at ceiling)\n",
    "ceiling = box(pos=vector(0,0,0), length=0.2, height=0.01, width=0.2) \n",
    "ball = sphere(pos=vector(0,-0.3,0), radius=0.025,\n",
    "              color=color.orange)\n",
    "spring = helix(pos=ceiling.pos, axis=ball.pos-ceiling.pos,\n",
    "               color=color.cyan, thickness=.003, coils=40, radius=0.010)\n",
    "## initial values\n",
    "pball = mball*vector(0,0,0)\n",
    "Fgrav = mball*g*vector(0,-1,0)\n",
    "Fspring = ks*norm(-ball.pos)*(mag(ball.pos)-L0)\n",
    "t = 0\n",
    "## improve the display\n",
    "scene1.userzoom = False          \n",
    "scene1.autoscale = False          ## turn off automatic camera zoom\n",
    "scene1.center = vector(0,-L0,0)   ## move camera down \n",
    "scene1.waitfor('click')           ## wait for a mouse click\n",
    "## calculation loop\n",
    "while t <10:\n",
    "    rate(100)\n",
    "    Fspring = ks*norm(-ball.pos)*(mag(ball.pos)-L0)\n",
    "    Fnet = Fgrav + Fspring\n",
    "    pball = pball + Fnet*deltat\n",
    "    ball.pos = ball.pos + (pball/mball)*deltat\n",
    "    spring.axis = ball.pos - ceiling.pos\n",
    "    gc.plot(pos = (t,ball.pos.y))\n",
    "    t = t + deltat"
   ]
  },
  {
   "cell_type": "markdown",
   "metadata": {},
   "source": [
    "## Problem 2\n",
    "\n",
    "### Energy versus Time\n",
    "*  Use same initial conditions as above. Make sure you are using a value of $\\Delta t$ that is small compared to the period of the oscillations.\n",
    "*  Add code to produce graphs of: spring potential energy, kinetic energy, and the sum of these two terms.\n",
    "*  Is the sum constant?  Should it be constant?  Explain.  If the sum is not constant, modify the progam to make the graph of potential + kinetic energy constant.\n",
    "\n"
   ]
  },
  {
   "cell_type": "code",
   "execution_count": 5,
   "metadata": {},
   "outputs": [
    {
     "data": {
      "text/html": [
       "<div id=\"glowscript\" class=\"glowscript\"></div>"
      ],
      "text/plain": [
       "<IPython.core.display.HTML object>"
      ]
     },
     "metadata": {},
     "output_type": "display_data"
    },
    {
     "data": {
      "application/javascript": [
       "window.__context = { glowscript_container: $(\"#glowscript\").removeAttr(\"id\")}"
      ],
      "text/plain": [
       "<IPython.core.display.Javascript object>"
      ]
     },
     "metadata": {},
     "output_type": "display_data"
    }
   ],
   "source": [
    "from vpython import *\n",
    "scene2=canvas(width=400,height=500,align='left',title='Click to start') # Create a canvas for 3D graphics, align to the left\n",
    "g2=graph(width=400,height=400,align='right') # Create a graph for plotting, align to the right\n",
    "gc0=gcurve(graph=g2,color=color.orange)\n",
    "gc1=gcurve(graph=g2,color=color.cyan) # Plotting data points using gcurve\n",
    "gc2=gcurve(graph=g2,color=color.red) \n",
    "gc3=gcurve(graph=g2,color=color.blue) \n",
    "gc4=gcurve(graph=g2,color=color.green)"
   ]
  },
  {
   "cell_type": "code",
   "execution_count": 6,
   "metadata": {
    "collapsed": true
   },
   "outputs": [],
   "source": [
    "## constants and data\n",
    "g = 9.8\n",
    "mball = 0.03\n",
    "L0 = 0.26\n",
    "ks = 1.8\n",
    "deltat = 0.01  \n",
    "## objects (origin is at ceiling)\n",
    "ceiling = box(pos=vector(0,0,0), length=0.2, height=0.01, width=0.2) \n",
    "ball = sphere(pos=vector(0,-0.3,0), radius=0.025,\n",
    "              color=color.orange)\n",
    "spring = helix(pos=ceiling.pos, axis=ball.pos-ceiling.pos,\n",
    "               color=color.cyan, thickness=0.003, coils=40, radius=0.010)\n",
    "## initial values\n",
    "pball = mball*vector(0,0,0)\n",
    "Fgrav = mball*g*vector(0,-1,0)\n",
    "balance_point = vector(0,-mball*g/ks,0)\n",
    "Fspring = ks*norm(-ball.pos)*(mag(ball.pos)-L0)\n",
    "K = 0.5*mball*(mag(pball/mball))**2\n",
    "U_spring = -0.5*ks*mag(ball.pos-vector(0,-L0,0))**2\n",
    "Sum =0\n",
    "t = 0\n",
    "## improve the display\n",
    "scene2.userzoom = False          \n",
    "scene2.autoscale = False          ## turn off automatic camera zoom\n",
    "scene2.center = vector(0,-L0,0)   ## move camera down \n",
    "scene2.waitfor('click')           ## wait for a mouse click\n",
    "## calculation loop\n",
    "while t <10:\n",
    "    rate(100)\n",
    "    Fspring = ks*norm(-ball.pos)*(mag(ball.pos)-L0)\n",
    "    Fnet = Fgrav + Fspring\n",
    "    pball = pball + Fnet*deltat\n",
    "    ball.pos = ball.pos + (pball/mball)*deltat\n",
    "    spring.axis = ball.pos - ceiling.pos\n",
    "    U_spring = 0.5*ks*mag(ball.pos-vector(0,-L0,0))**2\n",
    "    delta_U_earth = mball*g*(ball.pos.y+mball*g/ks+L0)\n",
    "    K = 0.5*mball*(mag(pball/mball))**2\n",
    "    sum_1 = U_spring+K\n",
    "    Sum=K+delta_U_earth+U_spring\n",
    "    gc0.plot(pos = (t,ball.pos.y))\n",
    "    gc1.plot(pos = (t,U_spring))\n",
    "    gc2.plot(pos = (t,K))\n",
    "    gc3.plot(pos = (t,sum_1)) ##彈簧位能加動能\n",
    "    gc4.plot(pos = (t,Sum)) ##系統總能\n",
    "    t = t + deltat\n",
    "##彈簧的位能加動能不會是定值，要考慮重力做功，加上重力做功後便符合力學能守恆"
   ]
  },
  {
   "cell_type": "markdown",
   "metadata": {},
   "source": [
    "## Problem 3\n",
    "### Dissipation \n",
    "\n",
    "A real spring-mass system will not oscillate forever.  To refine this model, we need to add a dissipative interaction.\n",
    "\n",
    "\n",
    "* Add a viscous friction force (as if the system were immersed in oil) to your model.  \n",
    "$$ \n",
    "F=-bv\n",
    "$$\n",
    "* You will need to invent values for the appropriate constants, and adjust these values until you get reasonable damping behavior.  Find values that allow your system to go through 10-15 oscillations before it stops moving.\n",
    "* Make sure that your graphs include **all** appropriate forms of energy for the system of mass, spring, and Earth.\n",
    "* Does the sum of kinetic and potential energy decrease linearly?  Explain the shape of this graph.\n"
   ]
  },
  {
   "cell_type": "code",
   "execution_count": 1,
   "metadata": {},
   "outputs": [
    {
     "data": {
      "application/javascript": [
       "require.undef(\"nbextensions/vpython_libraries/glow.min\");"
      ],
      "text/plain": [
       "<IPython.core.display.Javascript object>"
      ]
     },
     "metadata": {},
     "output_type": "display_data"
    },
    {
     "data": {
      "application/javascript": [
       "require.undef(\"nbextensions/vpython_libraries/glowcomm\");"
      ],
      "text/plain": [
       "<IPython.core.display.Javascript object>"
      ]
     },
     "metadata": {},
     "output_type": "display_data"
    },
    {
     "data": {
      "application/javascript": [
       "require.undef(\"nbextensions/vpython_libraries/jquery-ui.custom.min\");"
      ],
      "text/plain": [
       "<IPython.core.display.Javascript object>"
      ]
     },
     "metadata": {},
     "output_type": "display_data"
    },
    {
     "data": {
      "application/javascript": [
       "require([\"nbextensions/vpython_libraries/glow.min\"], function(){console.log(\"GLOW LOADED\");})"
      ],
      "text/plain": [
       "<IPython.core.display.Javascript object>"
      ]
     },
     "metadata": {},
     "output_type": "display_data"
    },
    {
     "data": {
      "application/javascript": [
       "require([\"nbextensions/vpython_libraries/glowcomm\"], function(){console.log(\"GLOWCOMM LOADED\");})"
      ],
      "text/plain": [
       "<IPython.core.display.Javascript object>"
      ]
     },
     "metadata": {},
     "output_type": "display_data"
    },
    {
     "data": {
      "application/javascript": [
       "require([\"nbextensions/vpython_libraries/jquery-ui.custom.min\"], function(){console.log(\"JQUERY LOADED\");})"
      ],
      "text/plain": [
       "<IPython.core.display.Javascript object>"
      ]
     },
     "metadata": {},
     "output_type": "display_data"
    },
    {
     "data": {
      "text/html": [
       "<div id=\"glowscript\" class=\"glowscript\"></div>"
      ],
      "text/plain": [
       "<IPython.core.display.HTML object>"
      ]
     },
     "metadata": {},
     "output_type": "display_data"
    },
    {
     "data": {
      "application/javascript": [
       "window.__context = { glowscript_container: $(\"#glowscript\").removeAttr(\"id\")}"
      ],
      "text/plain": [
       "<IPython.core.display.Javascript object>"
      ]
     },
     "metadata": {},
     "output_type": "display_data"
    },
    {
     "data": {
      "text/html": [
       "<div id=\"glowscript\" class=\"glowscript\"></div>"
      ],
      "text/plain": [
       "<IPython.core.display.HTML object>"
      ]
     },
     "metadata": {},
     "output_type": "display_data"
    },
    {
     "data": {
      "application/javascript": [
       "window.__context = { glowscript_container: $(\"#glowscript\").removeAttr(\"id\")}"
      ],
      "text/plain": [
       "<IPython.core.display.Javascript object>"
      ]
     },
     "metadata": {},
     "output_type": "display_data"
    }
   ],
   "source": [
    "from vpython import *\n",
    "scene3=canvas(width=400,height=500,align='left',title='Click to start') # Create a canvas for 3D graphics, align to the left\n",
    "g2=graph(width=400,height=400,align='right') # Create a graph for plotting, align to the right\n",
    "gc1=gcurve(graph=g2,color=color.cyan) # Plotting data points using gcurve\n",
    "gc2=gcurve(graph=g2,color=color.red) \n",
    "gc3=gcurve(graph=g2,color=color.blue) \n",
    "gc4=gcurve(graph=g2,color=color.green)\n",
    "gc5=gcurve(graph=g2,color = color.orange)"
   ]
  },
  {
   "cell_type": "code",
   "execution_count": 2,
   "metadata": {},
   "outputs": [],
   "source": [
    "\n",
    "## constants and data\n",
    "g = 9.8\n",
    "mball = 0.03\n",
    "L0 = 0.26\n",
    "ks = 1.8\n",
    "deltat = 0.01  \n",
    "b = 0.025\n",
    "## objects (origin is at ceiling)\n",
    "ceiling = box(pos=vector(0,0,0), length=0.2, height=0.01, width=0.2) \n",
    "ball = sphere(pos=vector(0,-0.3,0), radius=0.025,\n",
    "              color=color.orange)\n",
    "spring = helix(pos=ceiling.pos, axis=ball.pos-ceiling.pos,\n",
    "               color=color.cyan, thickness=0.003, coils=40, radius=0.010)\n",
    "## initial values\n",
    "pball = mball*vector(0,0,0)\n",
    "Fgrav = mball*g*vector(0,-1,0)\n",
    "Fspring = -ks*(ball.pos-vector(0,-L0,0))\n",
    "F_dissipation = -b *(pball/mball)\n",
    "t = 0\n",
    "## improve the display\n",
    "scene3.userzoom = False          \n",
    "scene3.autoscale = False          ## turn off automatic camera zoom\n",
    "scene3.center = vector(0,-L0,0)   ## move camera down \n",
    "scene3.waitfor('click')           ## wait for a mouse click\n",
    "## calculation loop\n",
    "while t <15:\n",
    "    rate(100)\n",
    "    F_dissipation = -b *(pball/mball)\n",
    "    Fspring = ks*norm(-ball.pos)*(mag(ball.pos)-L0)\n",
    "    Fnet = Fgrav + Fspring + F_dissipation\n",
    "    pball = pball + Fnet*deltat\n",
    "    ball.pos = ball.pos + (pball/mball)*deltat\n",
    "    spring.axis = ball.pos - ceiling.pos\n",
    "    U_spring = 0.5*ks*mag(ball.pos-vector(0,-L0,0))**2\n",
    "    delta_U_earth = mball*g*(ball.pos.y+mball*g/ks+L0)\n",
    "    K = 0.5*mball*(mag(pball/mball))**2\n",
    "    sum_e = K+delta_U_earth+U_spring\n",
    "    gc1.plot(pos = (t,ball.pos.y))\n",
    "    gc2.plot(pos = (t,U_spring))\n",
    "    gc3.plot(pos = (t,K))\n",
    "    gc4.plot(pos = (t,sum_e)) ##圖中可見總能會下降，但非線性關係\n",
    "    gc5.plot(pos = (t,delta_U_earth))\n",
    "    t = t + deltat"
   ]
  },
  {
   "cell_type": "markdown",
   "metadata": {},
   "source": [
    "## Bonus: 3D Oscillations\n",
    "\n",
    "* Modify the program so the ball leaves a trail as it moves. To do this, set the attribute `make_trail` to `True` in the constructor for the ball, like this:\n",
    "\n",
    "```\n",
    "ball = sphere(pos=vector(0,-0.3,0), radius=0.025,\n",
    "              color=color.orange, make_trail=True)\n",
    "```\n",
    "\n",
    "* Find initial conditions that produce oscillations not confined to a single plane.  To make sure the path traced out by the ball does not lie in a line or a plane, rotate the display and examine the trail left by the ball. \n",
    "* Add two arrows that move with the ball: one representing the net force on the ball, and the other representing the ball's momentum. \n",
    "* Include air resistance.  "
   ]
  },
  {
   "cell_type": "code",
   "execution_count": 7,
   "metadata": {},
   "outputs": [
    {
     "data": {
      "text/html": [
       "<div id=\"glowscript\" class=\"glowscript\"></div>"
      ],
      "text/plain": [
       "<IPython.core.display.HTML object>"
      ]
     },
     "metadata": {},
     "output_type": "display_data"
    },
    {
     "data": {
      "application/javascript": [
       "window.__context = { glowscript_container: $(\"#glowscript\").removeAttr(\"id\")}"
      ],
      "text/plain": [
       "<IPython.core.display.Javascript object>"
      ]
     },
     "metadata": {},
     "output_type": "display_data"
    }
   ],
   "source": [
    "from vpython import *\n",
    "scene4=canvas(width=400,height=500,align='left',title='Click to start') # Create a canvas for 3D graphics, align to the left"
   ]
  },
  {
   "cell_type": "code",
   "execution_count": 8,
   "metadata": {
    "collapsed": true
   },
   "outputs": [],
   "source": [
    "\n",
    "## constants and data\n",
    "g = 9.8\n",
    "mball = 0.03\n",
    "L0 = 0.26\n",
    "ks = 1.8\n",
    "b = 0.01\n",
    "deltat = 0.01 \n",
    "\n",
    "ceiling = box(pos=vector(0,0,0), length=0.2, height=0.01, width=0.2) \n",
    "ball = sphere(pos=vector(0.3,-0.3,0), radius=0.025,\n",
    "              color=color.orange, make_trail = True)\n",
    "spring = helix(pos=ceiling.pos, axis=ball.pos-ceiling.pos,\n",
    "               color=color.cyan, thickness=0.003, coils=40, radius=0.010)\n",
    "pball = mball*vector(0,0,1)\n",
    "arrow1 = arrow(pos = ball.pos, axis = 3*pball, shaftwidth = 0.01, color = color.red)\n",
    "Fgrav = mball*g*vector(0,-1,0)\n",
    "Fspring = ks*norm(-ball.pos)*(mag(ball.pos)-L0)\n",
    "F_dissipation = -b *(pball/mball)\n",
    "Fnet = Fgrav+Fspring+F_dissipation\n",
    "arrow2 = arrow(pos = ball.pos,axis = Fnet, shaftwidth = 0.01,color = color.magenta)\n",
    "t = 0\n",
    "## improve the display\n",
    "scene4.userzoom = False          \n",
    "scene4.autoscale = False          ## turn off automatic camera zoom\n",
    "scene4.center = vector(0,-L0,0)   ## move camera down \n",
    "scene4.waitfor('click')           ## wait for a mouse click\n",
    "## calculation loop\n",
    "while t <20:\n",
    "    rate(100)\n",
    "    Fspring = ks*norm(-ball.pos)*(mag(ball.pos)-L0)\n",
    "    F_dissipation = -b *(pball/mball)\n",
    "    Fnet = Fgrav+Fspring+F_dissipation\n",
    "    pball = pball + Fnet*deltat\n",
    "    ball.pos = ball.pos + (pball/mball)*deltat\n",
    "    spring.axis = ball.pos - ceiling.pos\n",
    "    arrow1.pos = ball.pos\n",
    "    arrow2.pos = ball.pos\n",
    "    arrow1.axis = 3*pball  #pball*3 to makes it visible\n",
    "    arrow2.axis = Fnet\n",
    "    t = t + deltat"
   ]
  },
  {
   "cell_type": "markdown",
   "metadata": {},
   "source": [
    "<a id='graph'></a>\n",
    "\n",
    "### Note: Graphing in VPython\n",
    "In the initialization stage of the code, we defined a `graph` called `g`, and create a `gcurve` plot called `gc` in `g`. \n",
    "```\n",
    "g=graph(width=400,height=400,align='right') # Create a graph for plotting, align to the right\n",
    "gc=gcurve(graph=g,color=color.cyan) # Plotting data points using gcurve\n",
    "```\n",
    "To plot on the `gcurve` plot `gc`, we issue the command `gc.plot([x,y])`, where `[x,y]` corresponds to the datapoint. You can also plot several data points in one command `gc.plot([x1,y1],[x2,y2]...)`. \n",
    "\n",
    "\n",
    "See [Graph Documentation](http://www.glowscript.org/docs/VPythonDocs/graph.html) for details. "
   ]
  },
  {
   "cell_type": "code",
   "execution_count": null,
   "metadata": {
    "collapsed": true
   },
   "outputs": [],
   "source": []
  }
 ],
 "metadata": {
  "anaconda-cloud": {},
  "kernelspec": {
   "display_name": "VPython",
   "language": "python",
   "name": "vpython"
  },
  "language_info": {
   "codemirror_mode": {
    "name": "ipython",
    "version": 3
   },
   "file_extension": ".py",
   "mimetype": "text/x-python",
   "name": "python",
   "nbconvert_exporter": "python",
   "pygments_lexer": "ipython3",
   "version": "3.6.2"
  }
 },
 "nbformat": 4,
 "nbformat_minor": 1
}
