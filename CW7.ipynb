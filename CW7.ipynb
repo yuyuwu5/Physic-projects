{
 "cells": [
  {
   "cell_type": "markdown",
   "metadata": {},
   "source": [
    "# Computer Homework 7:  Axial Precession of the Earth\n",
    "## Objective\n",
    "\n",
    "In this homework, we will study the precession the Earth's rotational axis due to the gravitational forces. \n",
    "\n",
    "After completing this activity you should be able to:\n",
    "\n",
    "\n",
    "* Understand the angular momentum principle.\n",
    "* Simulate planetary motion.\n",
    "\n",
    "Reference: [Jupyter VPython Documentation](http://www.glowscript.org/docs/VPythonDocs/index.html)\n",
    "\n"
   ]
  },
  {
   "cell_type": "markdown",
   "metadata": {},
   "source": [
    "## Q1: Modeling the Earth\n",
    "\n",
    "The Earth is denser near its core. The average density of the Earth is 5.5 g/cm $^3$, whereas the average density of the rock near its surface is only 3.8 g/cm$^3$. This leads to a [moment of inertia factor](https://en.wikipedia.org/wiki/Moment_of_inertia_factor) of 0.33.  \n",
    "\n",
    "The polar radius of the Earth is 6357 km, and the equatorial radius is 6378 km. For simplicity, we will model the Earth as a sphere of radius 6357 km plus a ring of mass running around its equator. We can model the extra mass, which is the mass of the volume between the ellipsoid and the perfect sphere, as if it were on the ring around the equator.\n",
    "\n",
    "\n",
    "1. Using the information given above, calculate the moment of inertia $I$ of the Earth.\n",
    "\n",
    "2. Calculate the angular momentum $\\mathbf{L}$ of the Earth, the direction of which is inclined 23.5$^\\circ$ from the perpendicular direction of the sun-earth-moon plane.\n",
    "\n",
    "\n",
    "![Figure](Fig.jpg)\n"
   ]
  },
  {
   "cell_type": "code",
   "execution_count": 7,
   "metadata": {},
   "outputs": [
    {
     "name": "stdout",
     "output_type": "stream",
     "text": [
      "I= 7.971983682002745e+37\n",
      "L= <2318035588585281519851788470059008.000000, 5331116872636270295281372808347648.000000, 0.000000>\n"
     ]
    }
   ],
   "source": [
    "from vpython import*\n",
    "#1.\n",
    "polar_radius=6357000\n",
    "equatorial_radius=6378000\n",
    "density=5500\n",
    "earth_volumn=polar_radius**2*equatorial_radius*pi*4/3\n",
    "mass=density*earth_volumn\n",
    "sphere_mass=density*polar_radius**3*4/3*pi\n",
    "extra_mass=mass-sphere_mass\n",
    "I=0.33*sphere_mass*polar_radius**2+0.5*extra_mass*(equatorial_radius**2+polar_radius**2)\n",
    "print(\"I=\",I)\n",
    "#2\n",
    "earth_T= 86164\n",
    "w=2*pi/earth_T\n",
    "L=I*w*vector(sin(23.5/180*pi),cos(23.5/180*pi),0)\n",
    "print(\"L=\",L)"
   ]
  },
  {
   "cell_type": "markdown",
   "metadata": {},
   "source": [
    "## Q2: Modeling the Precession\n",
    "\n",
    "The two halves of the ring can have different distances from the moon and the sun, depending on the position of the moon and the sun. The gravitational pull from the sun and from the moon will\n",
    "generate a torque to affect the Earth’s angular momentum $\\mathbf{L}$. This leads to the precession of the Earth's axis. \n",
    "\n",
    "For simplicity, take the center of the Earth as the origin, and let the moon and sun “orbit” around the earth, with their own distances and periods, respectively. Assuming now the inclination is toward the $x$-axis.\n",
    "\n",
    "1. Simulate the precession of the rotation axis of the Earth. \n",
    "2. Find the period of the precession."
   ]
  },
  {
   "cell_type": "code",
   "execution_count": 1,
   "metadata": {},
   "outputs": [
    {
     "data": {
      "application/javascript": [
       "require.undef(\"nbextensions/vpython_libraries/glow.min\");"
      ],
      "text/plain": [
       "<IPython.core.display.Javascript object>"
      ]
     },
     "metadata": {},
     "output_type": "display_data"
    },
    {
     "data": {
      "application/javascript": [
       "require.undef(\"nbextensions/vpython_libraries/glowcomm\");"
      ],
      "text/plain": [
       "<IPython.core.display.Javascript object>"
      ]
     },
     "metadata": {},
     "output_type": "display_data"
    },
    {
     "data": {
      "application/javascript": [
       "require.undef(\"nbextensions/vpython_libraries/jquery-ui.custom.min\");"
      ],
      "text/plain": [
       "<IPython.core.display.Javascript object>"
      ]
     },
     "metadata": {},
     "output_type": "display_data"
    },
    {
     "data": {
      "application/javascript": [
       "require([\"nbextensions/vpython_libraries/glow.min\"], function(){console.log(\"GLOW LOADED\");})"
      ],
      "text/plain": [
       "<IPython.core.display.Javascript object>"
      ]
     },
     "metadata": {},
     "output_type": "display_data"
    },
    {
     "data": {
      "application/javascript": [
       "require([\"nbextensions/vpython_libraries/glowcomm\"], function(){console.log(\"GLOWCOMM LOADED\");})"
      ],
      "text/plain": [
       "<IPython.core.display.Javascript object>"
      ]
     },
     "metadata": {},
     "output_type": "display_data"
    },
    {
     "data": {
      "application/javascript": [
       "require([\"nbextensions/vpython_libraries/jquery-ui.custom.min\"], function(){console.log(\"JQUERY LOADED\");})"
      ],
      "text/plain": [
       "<IPython.core.display.Javascript object>"
      ]
     },
     "metadata": {},
     "output_type": "display_data"
    },
    {
     "data": {
      "text/html": [
       "<div id=\"glowscript\" class=\"glowscript\"></div>"
      ],
      "text/plain": [
       "<IPython.core.display.HTML object>"
      ]
     },
     "metadata": {},
     "output_type": "display_data"
    },
    {
     "data": {
      "application/javascript": [
       "window.__context = { glowscript_container: $(\"#glowscript\").removeAttr(\"id\")}"
      ],
      "text/plain": [
       "<IPython.core.display.Javascript object>"
      ]
     },
     "metadata": {},
     "output_type": "display_data"
    }
   ],
   "source": [
    "from vpython import*\n",
    "\n",
    "#scene=canvas(height=600,width=800)\n",
    "#g1=graph(scene=scene,width=400,height=200,ytitle='E',xtitle='t') # Create a graph for plotting\n",
    "#gc11=gcurve(graph=g1,color=color.cyan,dot=True) \n",
    "\n",
    "density=5500\n",
    "R=6537*1000\n",
    "M_earth = (4/3)*pi*(R**3)*density\n",
    "I = 0.33*(M_earth*R*R)\n",
    "print(\"I =\",I)\n",
    "\n",
    "w = 2*pi/(24*60*60)\n",
    "L_0 = I*w\n",
    "print(\"L =\",L_0)\n",
    "\n",
    "G=6.7e-11\n",
    "Earth=sphere(radius=6.357e6,pos=vec(0,0,0),color=color.blue)\n",
    "axis_earth=arrow(pos=vec(0,0,0),axis=vec(1e7*(sin(23.5*pi/180)),1e7*(cos(23.5*pi/180)),0),shaftwidth=3500*100,color=color.red)\n",
    "axis_earth_2=arrow(pos=vec(-1e7*(cos(23.5*pi/180)),1e7*(sin(23.5*pi/180)),0),axis=vec(2e7*(cos(23.5*pi/180)),-2e7*(sin(23.5*pi/180)),0),shaftwidth=3500*100,color=color.red)\n",
    "\n",
    "Sun=sphere(radius=6.96e8,pos=vec(1.5e11,0,0),color=color.yellow)\n",
    "Moon=sphere(radius=1.57e6,pos=vec(3.84e8,0,0),color=color.green)\n",
    "scene.userzoom=True\n",
    "\n",
    "M_moon=7.36e22\n",
    "M_sun=1.98892e30\n",
    "T_moon=24*60*60*29.53\n",
    "T_sun=24*60*60*365.2\n",
    "\n",
    "Ring=(4/3)*pi*(R**3)*(5.5-3.8)\n",
    "\n",
    "#ball=sphere(pos=axis_earth.pos+axis_earth.axis,color=color.green)\n",
    "\n",
    "t=0\n",
    "dt=1e10\n",
    "L=vec(sin(23.5*pi/180),cos(23.5*pi/180),0)*L_0\n",
    "L_start=L\n",
    "L_pre=L\n",
    "tmax=365*24*60*60*10000000\n",
    "axis_earth_2.visible=False\n",
    "while t<tmax:\n",
    "    rate(100000000)\n",
    "    \n",
    "    T=vec(0,0,0)\n",
    "    X=vec(L.z,0,-L.x)\n",
    "    X=X/mag(X)\n",
    "    Y=norm(L)\n",
    "    Z=cross(X,Y)\n",
    "    \n",
    "    for u in range(100):\n",
    "        R_0=cos(u*2*pi/100)*X+sin(u*2*pi/100)*Y\n",
    "        R_1=R_0/mag(R_0)\n",
    "        R=R_1*Earth.radius\n",
    "        Fhat_sun=norm(Sun.pos-R)\n",
    "        Fhat_moon=norm(Moon.pos-R)\n",
    "        F_sun=G*(Ring/100)*(M_sun)*Fhat_sun/mag2(Sun.pos-R)\n",
    "        F_moon=G*(Ring/100)*(M_moon)*Fhat_moon/mag2(Moon.pos-R)\n",
    "        T=T+cross(R,F_sun)+cross(R,F_moon)\n",
    "    \n",
    "    L=L+T*dt\n",
    "    #print(L)\n",
    "    axis_earth.axis=L*1.5e-27\n",
    "    Sun.pos=vec(cos(t*2*pi/T_sun),0,sin(t*2*pi/T_sun))*mag(Sun.pos)\n",
    "    Moon.pos=vec(cos(t*2*pi/T_moon),0,sin(t*2*pi/T_moon))*mag(Moon.pos)\n",
    "    axis_earth_2.rotate(angle=t*pi/(12*60*60),axis=axis_earth.axis,origin=Earth.pos)\n",
    "    #ball.pos=axis_earth.pos+axis_earth.axis\n",
    "    #gc11.plot(pos=(t,ball.pos))\n",
    "    t=t+dt\n",
    "###period=6367 year"
   ]
  },
  {
   "cell_type": "code",
   "execution_count": null,
   "metadata": {
    "collapsed": true
   },
   "outputs": [],
   "source": []
  }
 ],
 "metadata": {
  "anaconda-cloud": {},
  "kernelspec": {
   "display_name": "VPython",
   "language": "python",
   "name": "vpython"
  },
  "language_info": {
   "codemirror_mode": {
    "name": "ipython",
    "version": 3
   },
   "file_extension": ".py",
   "mimetype": "text/x-python",
   "name": "python",
   "nbconvert_exporter": "python",
   "pygments_lexer": "ipython3",
   "version": "3.6.2"
  }
 },
 "nbformat": 4,
 "nbformat_minor": 1
}
