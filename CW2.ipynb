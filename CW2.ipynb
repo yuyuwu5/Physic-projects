{
 "cells": [
  {
   "cell_type": "markdown",
   "metadata": {},
   "source": [
    "# Computer Homework 2\n",
    "\n",
    "## Simulation of falling object\n",
    "\n",
    "The objective of this computer homework is to learn how to simulate the motion of an object under force. \n",
    "\n",
    "### Python statement covered in this HW\n",
    "\n",
    "* `While`\n",
    "* `Print`\n",
    "\n",
    "### VPython statement covered in this HW\n",
    "\n",
    "* `vector`\n",
    "* `box`, `sphere`, `arrow`\n",
    "* `rate`\n",
    "\n",
    "Reference: [Jupyter VPython Documentation](http://www.glowscript.org/docs/VPythonDocs/index.html)\n",
    "\n"
   ]
  },
  {
   "cell_type": "code",
   "execution_count": 2,
   "metadata": {},
   "outputs": [
    {
     "data": {
      "text/html": [
       "<div id=\"glowscript\" class=\"glowscript\"></div>"
      ],
      "text/plain": [
       "<IPython.core.display.HTML object>"
      ]
     },
     "metadata": {},
     "output_type": "display_data"
    },
    {
     "data": {
      "application/javascript": [
       "window.__context = { glowscript_container: $(\"#glowscript\").removeAttr(\"id\")}"
      ],
      "text/plain": [
       "<IPython.core.display.Javascript object>"
      ]
     },
     "metadata": {},
     "output_type": "display_data"
    }
   ],
   "source": [
    "from vpython import *\n",
    "\n",
    "g=9.8 # g = 9.8 m/s^2\n",
    "size = 0.25 # ball radius = 0.25 m\n",
    "height =15.0 # ball center initial height = 15 m\n",
    "\n",
    "scene = canvas(width=600, height=500, center=vector(0,height/2,0),background=vector(0.2,0.5,0))  # open a display\n",
    "floor = box(length=30, height=0.01, width=10, color=color.blue) # the floor\n",
    "ball = sphere(radius = size, color=color.red) # the ball\n",
    "\n",
    "ball.pos = vector( 0, height, 0) # ball center initial position \n",
    "ball.v = vector(0, 0 , 0) # ball initial velocity\n",
    "dt = 0.001 # time step\n",
    "while ball.pos.y >= size: # until the ball hit the ground\n",
    "    rate(1000) # run 1000 times per real second\n",
    "    ball.pos += ball.v*dt \n",
    "    ball.v.y += -g*dt\n"
   ]
  },
  {
   "cell_type": "markdown",
   "metadata": {},
   "source": [
    "## Code walkthrough \n",
    "\n",
    "### Definitions and Setup\n",
    "\n",
    "    g=9.8 # g = 9.8 m/s^2\n",
    "    size = 0.25 # ball radius = 0.25 m\n",
    "    height =15.0 # ball center initial height = 15 m\n",
    "\n",
    "Define some constants. Notice that VPython uses S.I. units. \n",
    "\n",
    "\n",
    "    scene = canvas(width=600, height=500, center=vector(0,height/2,0),background=vector(0.2,0.5,0))  \n",
    "\n",
    "Create a canvas with  600 pixels in width and 500 pixels in height. In the simulation world, before changing the view angle, `+x` axis is to the right is, `+y` to the top, `+z` pointing out the screen. \n",
    "\n",
    "* `center` is the position vector of the center of the simulation world. \n",
    "* `background` sets the background color to `(0.2, 0.5, 0)`, which indicates the strength for red (R), green(G), and blue(B), respectively, scaled from 0.0 to 1.0. \n",
    "\n",
    "For more details on the VPython `canvas` and the view, see [Controlling One or More VPython Canvases](http://www.glowscript.org/docs/VPythonDocs/canvas.html).\n",
    "\n",
    "    floor = box(length=30, height=0.01, width=10, color=color.blue) \n",
    "    \n",
    "Draws a box of `length = 30` (in `x`), `height = 0.01`(in `y`), and `width = 10` (in `z`) called `floor`. You may use `floor.pos` to assign its center, e.g. `floor.pos = vector(1,0,0)`. Without this, the center defaults at `(0,0,0)`.\n",
    "\n",
    "In Python, `O.a` means the attribute `a` of an object `O`. \n",
    "\n",
    "`vector()` is used to represent a vector, such as `a=vector(1, 2, 3)`, in which all three components are `float` (i.e here 1 is 1.0,...). Moreover, `a.x` means the `x` component of `a`. We can use `print(a.x)` to show the x component of vector `a` or `a.x = 5` to set the x component of `a` to 5. `floor.pos` is also a vector, therefore `floor.pos.x` is the `x` component of `floor.pos`. The same for `y` and `z`.\n",
    "\n",
    "\n",
    "    ball = sphere(radius = size, color=color.red)\n",
    "\n",
    "Draws a red sphere with `radius=size` called `ball`. \n",
    "\n",
    "### Initialization\n",
    "\n",
    "    ball.pos = vector( 0, height, 0) \n",
    "    ball.v = vector(1, 0 , 0) \n",
    "    dt = 0.001 \n",
    "    \n",
    "Set the initial position and velocity of the ball. The time step `dt=0.001`s. \n",
    "    \n",
    "### Main Loop\n",
    "\n",
    "We will use the Python expression `while` to iteratvely update the position and velocity of the ball.\n",
    "The condition between `while` and colon(`:`) is tested. If it is satisfied, all the **indented codes** below colon are executed once. \n",
    "\n",
    "Then the condition will be tested again and the process will repeat until the condition is no longer satisfied (here, it means the `y` component of the ball’s center position is no longer larger than the ball radius, meaning the ball touches the ground). At this moment, Vpython stops executing the while loop and its associated codes, but then continue to the next section of the codes.\n",
    "\n",
    "    while ball.pos.y >= size: # until the ball hits the ground\n",
    "\n",
    "        rate(1000) # run 1000 times per real second\n",
    "        \n",
    "This sets the while loop to run 1000 times per real second. With `dt=0.001`, this simulation runs at a speed of `1000*0.001 = 1`s of real time, meaning the result is presented at real time. If `rate(500)`, `500*0.001 = 0.5`, then the result is presented at a slow motion of 0.5 real time.        \n",
    "     \n",
    "        ball.pos += ball.v*dt \n",
    "        ball.v.y += -g*dt\n",
    "        \n",
    "Updates the position and the velocity of the ball.\n",
    "\n",
    "\n",
    "In simulation, we usually use **arrow** to indicate vectors such as velocity or acceleration. \n",
    "`a1 = arrow(shaftwidth=0.1)` draws an arrow with width = 0.1. \n",
    "\n",
    "`arrow` has attributes like `pos`, `axis`, and `color`. \n",
    "\n",
    "See [Arrow Documentation](http://www.glowscript.org/docs/VPythonDocs/arrow.html) for more information."
   ]
  },
  {
   "cell_type": "markdown",
   "metadata": {},
   "source": [
    "## Question\n",
    "\n",
    "Write a code to simulate a ball of radius 0.25m with mass 0.2 kg dropped from height 15m with initial velocity $\\mathbf{v}=\\langle 2,0,0 \\rangle$m/s under the influence of gravitational force and air drag. In the simulation, attach an **arrow** to the ball to indicate the velocity vector of the ball. \n",
    "\n",
    "The air drag (resistance) of an object is given by \n",
    "$$\n",
    "F=kv^2=\\frac{\\rho A C_D}{2} v^2\n",
    "$$\n",
    "\n",
    "* $F$ = force due to air resistance, or drag (N)\n",
    "* $k$ = a constant that collects the effects of density, drag, and area (kg/m)\n",
    "* $v$ = the magnitude of the velocity of the moving object (m/s)\n",
    "* $\\rho$ = the density of the air the object moves through (kg/m$^3$)\n",
    "* $C_D$ = the drag coefficient, includes hard-to-measure effects (unitless)\n",
    "* $A$ = the area of the object the air presses on (m$^2$)\n",
    "\n",
    "The air density near the earth surface is $\\rho=12.25$ kg/m$^3$ and the drag constant for the ball is $C_D=0.45$. \n",
    "\n",
    "\n",
    "\n"
   ]
  },
  {
   "cell_type": "code",
   "execution_count": 3,
   "metadata": {
    "scrolled": true
   },
   "outputs": [
    {
     "data": {
      "text/html": [
       "<div id=\"glowscript\" class=\"glowscript\"></div>"
      ],
      "text/plain": [
       "<IPython.core.display.HTML object>"
      ]
     },
     "metadata": {},
     "output_type": "display_data"
    },
    {
     "data": {
      "application/javascript": [
       "window.__context = { glowscript_container: $(\"#glowscript\").removeAttr(\"id\")}"
      ],
      "text/plain": [
       "<IPython.core.display.Javascript object>"
      ]
     },
     "metadata": {},
     "output_type": "display_data"
    }
   ],
   "source": [
    "from vpython import *\n",
    "import math\n",
    "g=9.8 \n",
    "size = 0.25 \n",
    "height =15.0 \n",
    "p = 1.225\n",
    "cd = 0.45\n",
    "a = size * size * pi\n",
    "k = p * a * cd / 2\n",
    "m = 0.2\n",
    "dt = 0.001  \n",
    "\n",
    "scene1 = canvas(width=600, height=500, center=vector(0,height/2,0),background=vector(0.2,0.5,0))  \n",
    "floor = box(length=30, height=0.01, width=10, color=color.blue) \n",
    "ball = sphere(pos=vector( 0, height, 0) ,radius = size, color=color.red, v= vector(2 , 0 , 0) ) \n",
    "pointer = arrow(pos= ball.pos, axis=ball.v, color = color.red, shaftwidth=0.1)\n",
    "\n",
    "\n",
    "while  ball.pos.y > size: \n",
    "    rate(1000) \n",
    "    ball.pos += ball.v*dt \n",
    "    ball.v.y += -g*dt +(k*ball.v.y*ball.v.y/m)*dt\n",
    "    ball.v.x -= (k*ball.v.x*ball.v.x/m)*dt\n",
    "    pointer.pos = ball.pos\n",
    "    pointer.axis=ball.v\n"
   ]
  },
  {
   "cell_type": "code",
   "execution_count": null,
   "metadata": {
    "collapsed": true
   },
   "outputs": [],
   "source": []
  },
  {
   "cell_type": "code",
   "execution_count": null,
   "metadata": {
    "collapsed": true
   },
   "outputs": [],
   "source": []
  }
 ],
 "metadata": {
  "kernelspec": {
   "display_name": "VPython",
   "language": "python",
   "name": "vpython"
  },
  "language_info": {
   "codemirror_mode": {
    "name": "ipython",
    "version": 3
   },
   "file_extension": ".py",
   "mimetype": "text/x-python",
   "name": "python",
   "nbconvert_exporter": "python",
   "pygments_lexer": "ipython3",
   "version": "3.6.2"
  }
 },
 "nbformat": 4,
 "nbformat_minor": 1
}
