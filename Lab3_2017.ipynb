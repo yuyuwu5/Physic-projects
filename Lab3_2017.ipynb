{
 "cells": [
  {
   "cell_type": "markdown",
   "metadata": {},
   "source": [
    "# Computational Models of Motion\n",
    "\n",
    "## Objective\n",
    "\n",
    " In this activity you will add the effects of a constant external force to a computational model of motion. Before doing this activity you should have read Section 2.7 of the *Matter and Interactions, 4e* textbook, which discusses the structure of a computational model of changing motion using the **Momentum Principle**.\n",
    "\n",
    "After completing this activity you should be able to:\n",
    "\n",
    "1. Identify the portions of a VPython program that \n",
    "    * Define the values of constants\n",
    "    * Specify the masses, initial positions, and initial momenta of the interacting objects\n",
    "    * Specify the value of $\\Delta t$\n",
    "    * Specify which calculations are to be done iteratively\n",
    "    * Calculate the net force acting on a system\n",
    "    * Apply the Momentum Principle to the system\n",
    "    * Update the position of the system\n",
    "\n",
    "2. Write a VPython program that predicts and animates the motion of an object that is subject to a constant force.\n",
    "\n"
   ]
  },
  {
   "cell_type": "markdown",
   "metadata": {},
   "source": [
    "## Modeling a Fan Cart\n",
    "You may have done experiments with a low-friction fan cart on a track.  When the fan is turned on, the force exerted by the air on the fan cart is nearly constant.  In this activity we'll create a computational model of the motion of a fan cart.\n",
    "\n",
    "The following code creates objects to represent a fan cart and a track, and gives initial values for position and momentum.  It also sets up a **graph display**.  (See the explanation of how to make graphs in VPython at the beginning of the Computational Problems section of Chapter 2 of *Matter and Interactions, 4e*.)"
   ]
  },
  {
   "cell_type": "code",
   "execution_count": 19,
   "metadata": {},
   "outputs": [
    {
     "data": {
      "text/html": [
       "<div id=\"glowscript\" class=\"glowscript\"></div>"
      ],
      "text/plain": [
       "<IPython.core.display.HTML object>"
      ]
     },
     "metadata": {},
     "output_type": "display_data"
    },
    {
     "data": {
      "application/javascript": [
       "window.__context = { glowscript_container: $(\"#glowscript\").removeAttr(\"id\")}"
      ],
      "text/plain": [
       "<IPython.core.display.Javascript object>"
      ]
     },
     "metadata": {},
     "output_type": "display_data"
    }
   ],
   "source": [
    "from __future__ import division, print_function\n",
    "from vpython import *\n",
    "scene=canvas()\n",
    "scene.width = 800\n",
    "scene.y = 400\n",
    "vgraph = gcurve(color=color.green)\n",
    "\n",
    "track = box(pos=vector(0,-0.05,0), length=2.0, height=0.03, width=0.10, color=color.white)\n",
    "cart = box(pos=vector(0,0,0), length=0.1, height=0.06, width=0.06, color=color.cyan)\n",
    "m_cart = 0.8\n",
    "p_cart = m_cart * vector(0.2,0,0)\n",
    "delta_t = 0.01\n",
    "t = 0\n"
   ]
  },
  {
   "cell_type": "markdown",
   "metadata": {},
   "source": [
    "* Before running the program, decide what will happen when you run it.  Will the cart move?  Will a graph appear?  Write down your prediction.\n",
    "* Run the program to see what it does.\n",
    "* Explain why your prediction was or was not correct.\n"
   ]
  },
  {
   "cell_type": "markdown",
   "metadata": {},
   "source": [
    "## Motion with Zero Net Force\n",
    "Force Modify the program to position the cart so its left end is initially aligned with the **left end of the track**.\n",
    "\n",
    "* Write a `while` loop to move the cart from one end of the track to the other with constant momentum. You can refer  to section 1.11 of *Matter and Interactions, 4e* to remind you how to do this.\n",
    "* Inside the loop, instruct the computer to calculate the *velocity* of the cart from its mass and momentum. This will be important when we add a nonzero net force. (It may help to refer to section 2.7 of *Matter and Interactions, 4e*)\n",
    "* After the loop completes, print the value of the elapsed time.  Note that because of roundoff errors inherent in floating point calculations, this value may actually be larger than the time limit you set in your `while` loop.\n"
   ]
  },
  {
   "cell_type": "code",
   "execution_count": 20,
   "metadata": {},
   "outputs": [
    {
     "data": {
      "text/html": [
       "<div id=\"glowscript\" class=\"glowscript\"></div>"
      ],
      "text/plain": [
       "<IPython.core.display.HTML object>"
      ]
     },
     "metadata": {},
     "output_type": "display_data"
    },
    {
     "data": {
      "application/javascript": [
       "window.__context = { glowscript_container: $(\"#glowscript\").removeAttr(\"id\")}"
      ],
      "text/plain": [
       "<IPython.core.display.Javascript object>"
      ]
     },
     "metadata": {},
     "output_type": "display_data"
    },
    {
     "name": "stdout",
     "output_type": "stream",
     "text": [
      "9.999999999999831\n"
     ]
    }
   ],
   "source": [
    "from __future__ import division, print_function\n",
    "from vpython import *\n",
    "scene=canvas()\n",
    "scene.width = 800\n",
    "scene.y = 400\n",
    "\n",
    "track = box(pos=vector(0,-0.05,0), length=2.0, height=0.03, width=0.10, color=color.white)\n",
    "cart = box(pos=vector(-1,0,0), v = vector(0.2, 0, 0), length=0.1, height=0.06, width=0.06, color=color.cyan)\n",
    "m_cart = 0.8\n",
    "p_cart = m_cart * vector(0.2,0,0)\n",
    "delta_t = 0.01\n",
    "t = 0\n",
    "\n",
    "while cart.pos.x<= 1:\n",
    "    rate(100)\n",
    "    cart.pos += cart.v*delta_t\n",
    "    cart.v = p_cart / m_cart\n",
    "    t += delta_t\n",
    "    \n",
    "print(t)"
   ]
  },
  {
   "cell_type": "markdown",
   "metadata": {},
   "source": [
    "### Add a Graph\n",
    "\n",
    "* What should a graph of $p_x$ versus $t$ look like if momentum is constant? Draw your prediction.\n",
    "* To create a graph, insert the following line of code inside your loop, at the end of the loop.\n",
    "```\n",
    "    vgraph.plot(pos=(t, p_cart.x))  \n",
    "```\n",
    "* Explain why your predicted graph was or was not correct.\n"
   ]
  },
  {
   "cell_type": "markdown",
   "metadata": {},
   "source": [
    "## Motion with a Constant Net Force\n",
    "\n",
    "* Add an instruction to define a force named `Fnet` (a vector) in the $+x$ direction.\n",
    "* Add statements to the `while loop` in your program to apply the Momentum Principle to update the cart's momentum to reflect the net force applied.\n",
    "* Adjust the magnitude of the force so that it takes about half as long for the cart to reach the end of the track with the fan turned on as it did with the fan off.\n",
    "* Explain how the graph of $p_x$ versus $t$ reflects the constant net force applied to the system.\n",
    "* Record a sketch or a screenshot of the graph in your notes.\n"
   ]
  },
  {
   "cell_type": "code",
   "execution_count": 1,
   "metadata": {},
   "outputs": [
    {
     "data": {
      "application/javascript": [
       "require.undef(\"nbextensions/vpython_libraries/glow.min\");"
      ],
      "text/plain": [
       "<IPython.core.display.Javascript object>"
      ]
     },
     "metadata": {},
     "output_type": "display_data"
    },
    {
     "data": {
      "application/javascript": [
       "require.undef(\"nbextensions/vpython_libraries/glowcomm\");"
      ],
      "text/plain": [
       "<IPython.core.display.Javascript object>"
      ]
     },
     "metadata": {},
     "output_type": "display_data"
    },
    {
     "data": {
      "application/javascript": [
       "require.undef(\"nbextensions/vpython_libraries/jquery-ui.custom.min\");"
      ],
      "text/plain": [
       "<IPython.core.display.Javascript object>"
      ]
     },
     "metadata": {},
     "output_type": "display_data"
    },
    {
     "data": {
      "application/javascript": [
       "require([\"nbextensions/vpython_libraries/glow.min\"], function(){console.log(\"GLOW LOADED\");})"
      ],
      "text/plain": [
       "<IPython.core.display.Javascript object>"
      ]
     },
     "metadata": {},
     "output_type": "display_data"
    },
    {
     "data": {
      "application/javascript": [
       "require([\"nbextensions/vpython_libraries/glowcomm\"], function(){console.log(\"GLOWCOMM LOADED\");})"
      ],
      "text/plain": [
       "<IPython.core.display.Javascript object>"
      ]
     },
     "metadata": {},
     "output_type": "display_data"
    },
    {
     "data": {
      "application/javascript": [
       "require([\"nbextensions/vpython_libraries/jquery-ui.custom.min\"], function(){console.log(\"JQUERY LOADED\");})"
      ],
      "text/plain": [
       "<IPython.core.display.Javascript object>"
      ]
     },
     "metadata": {},
     "output_type": "display_data"
    },
    {
     "data": {
      "text/html": [
       "<div id=\"glowscript\" class=\"glowscript\"></div>"
      ],
      "text/plain": [
       "<IPython.core.display.HTML object>"
      ]
     },
     "metadata": {},
     "output_type": "display_data"
    },
    {
     "data": {
      "application/javascript": [
       "window.__context = { glowscript_container: $(\"#glowscript\").removeAttr(\"id\")}"
      ],
      "text/plain": [
       "<IPython.core.display.Javascript object>"
      ]
     },
     "metadata": {},
     "output_type": "display_data"
    },
    {
     "data": {
      "text/html": [
       "<div id=\"glowscript\" class=\"glowscript\"></div>"
      ],
      "text/plain": [
       "<IPython.core.display.HTML object>"
      ]
     },
     "metadata": {},
     "output_type": "display_data"
    },
    {
     "data": {
      "application/javascript": [
       "window.__context = { glowscript_container: $(\"#glowscript\").removeAttr(\"id\")}"
      ],
      "text/plain": [
       "<IPython.core.display.Javascript object>"
      ]
     },
     "metadata": {},
     "output_type": "display_data"
    },
    {
     "name": "stdout",
     "output_type": "stream",
     "text": [
      "4.979999999999938\n"
     ]
    }
   ],
   "source": [
    "from __future__ import division, print_function\n",
    "from vpython import *\n",
    "scene=canvas()\n",
    "scene.width = 800\n",
    "scene.y = 400\n",
    "vgraph = gcurve(color=color.green)\n",
    "\n",
    "\n",
    "track = box(pos=vector(0,-0.05,0), length=2.0, height=0.03, width=0.10, color=color.white)\n",
    "cart = box(pos=vector(-1,0,0), v = vector(0.2, 0, 0), length=0.1, height=0.06, width=0.06, color=color.cyan)\n",
    "m_cart = 0.8\n",
    "p_cart = m_cart * vector(0.2,0,0)\n",
    "delta_t = 0.01\n",
    "t = 0\n",
    "Fnet =vector(0.065, 0, 0)\n",
    "while cart.pos.x<= 1:\n",
    "    rate(100)\n",
    "    cart.pos += cart.v*delta_t\n",
    "    cart.v += Fnet/m_cart*delta_t\n",
    "    #p = cart.pos.x\n",
    "    p_cart = m_cart * cart.v\n",
    "    t += delta_t\n",
    "    vgraph.plot(pos=(t, p_cart.x))\n",
    "print(t)"
   ]
  },
  {
   "cell_type": "markdown",
   "metadata": {},
   "source": [
    "## Match a Graph\n",
    "\n",
    "* Find values for **initial conditions** (initial position, initial momentum) and **net force** that produce a graph of $p_x$ versus $t$ like the one below.  Note that you may need to let your loop run longer than before.\n",
    "\n",
    "![](px_vs_t_2.JPG)"
   ]
  },
  {
   "cell_type": "code",
   "execution_count": 22,
   "metadata": {
    "scrolled": true
   },
   "outputs": [
    {
     "data": {
      "text/html": [
       "<div id=\"glowscript\" class=\"glowscript\"></div>"
      ],
      "text/plain": [
       "<IPython.core.display.HTML object>"
      ]
     },
     "metadata": {},
     "output_type": "display_data"
    },
    {
     "data": {
      "application/javascript": [
       "window.__context = { glowscript_container: $(\"#glowscript\").removeAttr(\"id\")}"
      ],
      "text/plain": [
       "<IPython.core.display.Javascript object>"
      ]
     },
     "metadata": {},
     "output_type": "display_data"
    }
   ],
   "source": [
    "from __future__ import division, print_function\n",
    "from vpython import *\n",
    "scene=canvas()\n",
    "scene.width = 800\n",
    "scene.y = 400\n",
    "vgraph = gcurve(color=color.green)\n",
    "\n",
    "\n",
    "track = box(pos=vector(0,-0.05,0), length=2.0, height=0.03, width=0.10, color=color.white)\n",
    "cart = box(pos=vector(-1,0,0), v = vector(0.2, 0, 0), length=0.1, height=0.06, width=0.06, color=color.cyan)\n",
    "m_cart = 0.8\n",
    "p_cart = m_cart * vector(0.2,0,0)\n",
    "delta_t = 0.01\n",
    "t = 0\n",
    "Fnet = vector(0.008888889, 0, 0)\n",
    "while p_cart.x > -0.16 and t < 37:\n",
    "    rate(100)\n",
    "    cart.pos += cart.v*delta_t\n",
    "    cart.v -= Fnet/m_cart*delta_t\n",
    "    #t = cart.pos.x\n",
    "    p_cart = m_cart * cart.v\n",
    "    t += delta_t\n",
    "    vgraph.plot(pos=(t, p_cart.x))"
   ]
  },
  {
   "cell_type": "code",
   "execution_count": null,
   "metadata": {
    "collapsed": true
   },
   "outputs": [],
   "source": []
  }
 ],
 "metadata": {
  "kernelspec": {
   "display_name": "VPython",
   "language": "python",
   "name": "vpython"
  },
  "language_info": {
   "codemirror_mode": {
    "name": "ipython",
    "version": 3
   },
   "file_extension": ".py",
   "mimetype": "text/x-python",
   "name": "python",
   "nbconvert_exporter": "python",
   "pygments_lexer": "ipython3",
   "version": "3.6.2"
  }
 },
 "nbformat": 4,
 "nbformat_minor": 1
}
