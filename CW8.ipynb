{
 "cells": [
  {
   "cell_type": "markdown",
   "metadata": {},
   "source": [
    "# CW8: Entropy and Equilibrium\n",
    "\n",
    "## Objective\n",
    "\n",
    "In Chapter 12 of *Matter and Interactions, 4e*,  you have calculated the number of ways to arrange a given amount of energy in a very small nanoparticle modeled as an Einstein solid.  In order to deal with a larger number of atoms, we need to use a computer.  In this activity we will explore the most probable distributions of 0 to 100 quanta of energy between two solid objects, made of the same material, containing a total of 700 quantum oscillators.   \n",
    "\n",
    "\n",
    "*This notebook is adapted from the Lab VP11 materials from Matter & Interactions 4e* \n",
    "\n",
    "Reference: [Jupyter VPython Documentation](http://www.glowscript.org/docs/VPythonDocs/index.html)\n",
    "\n"
   ]
  },
  {
   "cell_type": "markdown",
   "metadata": {},
   "source": [
    "## The `combin()` function in VPython\n",
    "\n",
    "The `combine()` function takes two arguments:\n",
    "\n",
    "    c = combin(a,b)\n",
    "\n",
    "\n",
    "The definition of this function is this: `combin(a,b)` = $\\dfrac{a!}{b!(a-b)!}$\n",
    "\n",
    "In order to use the  `combin()` function you must insert the following line near the beginning of your program:\n",
    "\n",
    "    from vpython.factorial import *\n"
   ]
  },
  {
   "cell_type": "markdown",
   "metadata": {},
   "source": [
    "## Number of Ways of Arranging Energy\n",
    "\n",
    "Completing the program below (by replacing all question marks with appropriate instructions) should produce a graph identical to Figure 12.16.  Make sure your program works correctly before going on to change model parameters.\n"
   ]
  },
  {
   "cell_type": "code",
   "execution_count": 1,
   "metadata": {
    "scrolled": true
   },
   "outputs": [
    {
     "data": {
      "application/javascript": [
       "require.undef(\"nbextensions/vpython_libraries/glow.min\");"
      ],
      "text/plain": [
       "<IPython.core.display.Javascript object>"
      ]
     },
     "metadata": {},
     "output_type": "display_data"
    },
    {
     "data": {
      "application/javascript": [
       "require.undef(\"nbextensions/vpython_libraries/glowcomm\");"
      ],
      "text/plain": [
       "<IPython.core.display.Javascript object>"
      ]
     },
     "metadata": {},
     "output_type": "display_data"
    },
    {
     "data": {
      "application/javascript": [
       "require.undef(\"nbextensions/vpython_libraries/jquery-ui.custom.min\");"
      ],
      "text/plain": [
       "<IPython.core.display.Javascript object>"
      ]
     },
     "metadata": {},
     "output_type": "display_data"
    },
    {
     "data": {
      "application/javascript": [
       "require([\"nbextensions/vpython_libraries/glow.min\"], function(){console.log(\"GLOW LOADED\");})"
      ],
      "text/plain": [
       "<IPython.core.display.Javascript object>"
      ]
     },
     "metadata": {},
     "output_type": "display_data"
    },
    {
     "data": {
      "application/javascript": [
       "require([\"nbextensions/vpython_libraries/glowcomm\"], function(){console.log(\"GLOWCOMM LOADED\");})"
      ],
      "text/plain": [
       "<IPython.core.display.Javascript object>"
      ]
     },
     "metadata": {},
     "output_type": "display_data"
    },
    {
     "data": {
      "application/javascript": [
       "require([\"nbextensions/vpython_libraries/jquery-ui.custom.min\"], function(){console.log(\"JQUERY LOADED\");})"
      ],
      "text/plain": [
       "<IPython.core.display.Javascript object>"
      ]
     },
     "metadata": {},
     "output_type": "display_data"
    },
    {
     "data": {
      "text/html": [
       "<div id=\"glowscript\" class=\"glowscript\"></div>"
      ],
      "text/plain": [
       "<IPython.core.display.HTML object>"
      ]
     },
     "metadata": {},
     "output_type": "display_data"
    },
    {
     "data": {
      "application/javascript": [
       "window.__context = { glowscript_container: $(\"#glowscript\").removeAttr(\"id\")}"
      ],
      "text/plain": [
       "<IPython.core.display.Javascript object>"
      ]
     },
     "metadata": {},
     "output_type": "display_data"
    }
   ],
   "source": [
    "from vpython import *\n",
    "\n",
    "waygraph1 = gvbars(delta=0.7, color=color.red) # to make vertical bar graph\n",
    "Ntotal = 6               ## total number of oscillators\n",
    "N1 = 3                   ## number of oscillators in object 1\n",
    "N2 = Ntotal-N1           ## number of oscillators in object 2\n",
    "qtotal = 4               ## total quanta of energy shared among all the oscillators\n",
    "\n",
    "q1 = 0                   ## start with no quanta of energy in object 1\n",
    "\n",
    "while q1 <= qtotal:      ## for each possible value of energy in object 1\n",
    "    q2 = qtotal-q1       ## number of quanta of energy in object 2\n",
    "    ways1 = combin(q1+N1-1,q1)       ## Calculate number of ways to arrange q1 quanta in object 1\n",
    "    ways2 = combin(q2+N2-1,q2)  ## Calculate number of ways to arrange q2 quanta in object 2:\n",
    "    waygraph1.plot( pos=(q1,ways1*ways2) )      ## Plot number of ways to arrange energy in both objects\n",
    "    q1 = q1+1\n",
    "\n",
    "#The most probable distribution is 2 and 2, there are 36 ways.\n",
    "#one atom of the two has all the energy is half as probableas the most probable distribution"
   ]
  },
  {
   "cell_type": "markdown",
   "metadata": {},
   "source": [
    "* Complete the program above, then run it.  Check to make sure it produces a histogram identical to Figure 12.16.\n",
    "\n",
    "\n",
    "* Model a system consisting of two solid blocks composed of the same substance.  Block 1 contains 400 oscillators and block 2 contains 300 oscillators.  Find the possible distribution of 100 quanta of energy between these two blocks, and plot the number of microstates versus number of quanta assigned to block 1.\n",
    "* What is the most probable energy distribution?\n",
    "* What energy distribution is half as probable as the most probable distribution?\n",
    "\n",
    "\n"
   ]
  },
  {
   "cell_type": "code",
   "execution_count": 1,
   "metadata": {},
   "outputs": [
    {
     "data": {
      "application/javascript": [
       "require.undef(\"nbextensions/vpython_libraries/glow.min\");"
      ],
      "text/plain": [
       "<IPython.core.display.Javascript object>"
      ]
     },
     "metadata": {},
     "output_type": "display_data"
    },
    {
     "data": {
      "application/javascript": [
       "require.undef(\"nbextensions/vpython_libraries/glowcomm\");"
      ],
      "text/plain": [
       "<IPython.core.display.Javascript object>"
      ]
     },
     "metadata": {},
     "output_type": "display_data"
    },
    {
     "data": {
      "application/javascript": [
       "require.undef(\"nbextensions/vpython_libraries/jquery-ui.custom.min\");"
      ],
      "text/plain": [
       "<IPython.core.display.Javascript object>"
      ]
     },
     "metadata": {},
     "output_type": "display_data"
    },
    {
     "data": {
      "application/javascript": [
       "require([\"nbextensions/vpython_libraries/glow.min\"], function(){console.log(\"GLOW LOADED\");})"
      ],
      "text/plain": [
       "<IPython.core.display.Javascript object>"
      ]
     },
     "metadata": {},
     "output_type": "display_data"
    },
    {
     "data": {
      "application/javascript": [
       "require([\"nbextensions/vpython_libraries/glowcomm\"], function(){console.log(\"GLOWCOMM LOADED\");})"
      ],
      "text/plain": [
       "<IPython.core.display.Javascript object>"
      ]
     },
     "metadata": {},
     "output_type": "display_data"
    },
    {
     "data": {
      "application/javascript": [
       "require([\"nbextensions/vpython_libraries/jquery-ui.custom.min\"], function(){console.log(\"JQUERY LOADED\");})"
      ],
      "text/plain": [
       "<IPython.core.display.Javascript object>"
      ]
     },
     "metadata": {},
     "output_type": "display_data"
    },
    {
     "data": {
      "text/html": [
       "<div id=\"glowscript\" class=\"glowscript\"></div>"
      ],
      "text/plain": [
       "<IPython.core.display.HTML object>"
      ]
     },
     "metadata": {},
     "output_type": "display_data"
    },
    {
     "data": {
      "application/javascript": [
       "window.__context = { glowscript_container: $(\"#glowscript\").removeAttr(\"id\")}"
      ],
      "text/plain": [
       "<IPython.core.display.Javascript object>"
      ]
     },
     "metadata": {},
     "output_type": "display_data"
    },
    {
     "data": {
      "text/html": [
       "<div id=\"glowscript\" class=\"glowscript\"></div>"
      ],
      "text/plain": [
       "<IPython.core.display.HTML object>"
      ]
     },
     "metadata": {},
     "output_type": "display_data"
    },
    {
     "data": {
      "application/javascript": [
       "window.__context = { glowscript_container: $(\"#glowscript\").removeAttr(\"id\")}"
      ],
      "text/plain": [
       "<IPython.core.display.Javascript object>"
      ]
     },
     "metadata": {},
     "output_type": "display_data"
    }
   ],
   "source": [
    "### Q2\n",
    "from vpython import *\n",
    "scene2=canvas(height=600,width=800)\n",
    "g1=graph(scene=scene2,width=400,height=200,ytitle='total ways',xtitle='q1') \n",
    "g2=graph(scene=scene2,width=400,height=200,ytitle='kb',xtitle='q1') \n",
    "\n",
    "waygraph = gvbars(graph=g1,delta=0.7, color=color.red) \n",
    "graph1 = gcurve(graph=g2,color=color.green) \n",
    "graph2 = gcurve(graph=g2,color=color.yellow) \n",
    "graph3 = gcurve(graph=g2,color=color.blue) \n",
    "\n",
    "Ntotal = 700             \n",
    "N1 = 400                  \n",
    "N2 = Ntotal-N1        \n",
    "qtotal = 100            \n",
    "q1 = 0                 \n",
    "\n",
    "while q1 <= qtotal:     \n",
    "    q2 = qtotal-q1     \n",
    "    ways1 = combin(q1+N1-1,q1)      \n",
    "    ways2 = combin(q2+N2-1,q2) \n",
    "    waygraph.plot( pos=(q1,ways1*ways2) ) \n",
    "    graph1.plot(pos=(q1,log(ways1)))\n",
    "    graph2.plot(pos=(q1,log(ways2)))\n",
    "    graph3.plot(pos=(q1,log(ways1)+log(ways2)))\n",
    "    q1 = q1+1"
   ]
  },
  {
   "cell_type": "markdown",
   "metadata": {},
   "source": [
    "## Entropy and Temperature\n",
    "\n",
    "Implement the following helper functions:\n",
    "\n",
    "1. `microstates(q,N)` that returns the number of microstates $\\Omega$ for a system with $q$ energy quanta and $N$ oscillators. \n",
    "\n",
    "2. `entropy(q,N)` that returns the entropy $S$ of a system with $q$ energy quanta and $N$ oscillators. \n"
   ]
  },
  {
   "cell_type": "code",
   "execution_count": 3,
   "metadata": {
    "collapsed": true
   },
   "outputs": [],
   "source": [
    "def microstates(q,N):\n",
    "    return combin(q+N-1,q)   \n",
    "def entropy(q,N):\n",
    "    return log(microstates(q,N))*1.38e-23"
   ]
  },
  {
   "cell_type": "markdown",
   "metadata": {},
   "source": [
    "For two blocks of 300 oscillators and 400 oscillators, plot $\\ln{\\Omega_1}$, $\\ln{\\Omega_2}$, and $\\ln{(\\Omega_1\\Omega_2)}$ as a function of $q_1$, for $q_1$ running from 0 to 100 quanta. \n",
    "\n",
    "**In Python the function `log()` gives the natural log (`ln`). **\n"
   ]
  },
  {
   "cell_type": "markdown",
   "metadata": {},
   "source": [
    "Numerically find the maximum value of $\\ln{(\\Omega_1\\Omega_2)}$ and the $q_1$ at which this maximum occurs.\n",
    "\n",
    "Write a function \\texttt{temperature(q,N,w)} that the temperature $T$ of a system with $q$ energy quanta and $N$ oscillators of energy quantum $\\Delta E=\\hbar w$. To find the temperature, you need to determine the values of $\\Delta E$ and $\\Delta S$ that corresponds to the one-quantum change in energy.  "
   ]
  },
  {
   "cell_type": "code",
   "execution_count": 4,
   "metadata": {
    "collapsed": true
   },
   "outputs": [],
   "source": [
    "def temperature(q,N,w):\n",
    "    return (2*1.05e-34*w)/(entropy(q+1,N)-entropy(q-1,N))"
   ]
  },
  {
   "cell_type": "markdown",
   "metadata": {},
   "source": [
    "The interatomic constant $k_{s,i}$ of Al is 16 N/m. Find the temperature in Kelvins of an Al block with 35 atoms (105 oscillators) and 150 quanta. \n"
   ]
  },
  {
   "cell_type": "code",
   "execution_count": 5,
   "metadata": {},
   "outputs": [
    {
     "name": "stdout",
     "output_type": "stream",
     "text": [
      "540.8194209798548\n"
     ]
    }
   ],
   "source": [
    "k=16\n",
    "m=27*1.7e-27\n",
    "w=sqrt(4*k/m)\n",
    "print (temperature(150,105,w))"
   ]
  },
  {
   "cell_type": "code",
   "execution_count": null,
   "metadata": {
    "collapsed": true
   },
   "outputs": [],
   "source": []
  }
 ],
 "metadata": {
  "anaconda-cloud": {},
  "kernelspec": {
   "display_name": "VPython",
   "language": "python",
   "name": "vpython"
  },
  "language_info": {
   "codemirror_mode": {
    "name": "ipython",
    "version": 3
   },
   "file_extension": ".py",
   "mimetype": "text/x-python",
   "name": "python",
   "nbconvert_exporter": "python",
   "pygments_lexer": "ipython3",
   "version": "3.6.2"
  }
 },
 "nbformat": 4,
 "nbformat_minor": 1
}
