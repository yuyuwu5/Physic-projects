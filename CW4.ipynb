{
 "cells": [
  {
   "cell_type": "markdown",
   "metadata": {},
   "source": [
    "# Computer Homework 4\n",
    "\n",
    "## Simulation of the Solar System\n",
    "\n",
    "The objective of this computer homework is to learn how to simulate the motion of Mars and Earth around the Sun. \n",
    "\n",
    "### Python data structures and statements covered in this HW\n",
    "\n",
    "* Data Structure:\n",
    "    * `dictionary`\n",
    "* Statement:\n",
    "    * `def`\n",
    "\n",
    "References: \n",
    "* [Jupyter VPython Documentation](http://www.glowscript.org/docs/VPythonDocs/index.html)\n",
    "* [Think Python: How to Think Like a Computer Scientist](http://greenteapress.com/thinkpython2/html/index.html)\n",
    "           \n",
    "\n"
   ]
  },
  {
   "cell_type": "markdown",
   "metadata": {},
   "source": [
    "## Python tutorial\n",
    "\n",
    "### Dictionary \n",
    "\n",
    "A *dictionary* is a key‐to‐value mapping data type. This is can be regarded as a *hashtable*. \n",
    "\n",
    "Here are ways to construct a dictionary in Python,\n",
    "\n",
    "```\n",
    "d1 = {1:'a', 2:'b'}\n",
    "d2 = dict(1='a', 2='b')\n",
    "d3 = {}; d3[1] = 'a'; d3[2]='b'\n",
    "```\n",
    "`d1`, `d2`, and `d3` are the same dictionary generated in different ways. \n",
    "In this example, `1`, `2` are the **keys** of the dictionary, and `'a'`,`'b'` are the **values**. \n",
    "One can use retrieve data from a dictionary by giving a key. \n",
    "\n",
    "The usual operation is shown in below:\n",
    "```\n",
    "d = {\"earth\":1, \"mars\":2, \"halley\":3} \n",
    "print(d)\n",
    "print(d[\"earth\"])\n",
    "d[\"sun\"] = \"s\"\n",
    "print(d)\n",
    "del d[\"earth\"] \n",
    "print(d)\n",
    "print(\"earth\" in d) \n",
    "print(\"earth\" not in d) \n",
    "print(len(d))\n",
    "```\n",
    "\n",
    "Statement      | Action  \n",
    "-------------- | ----------------------------------------------------\n",
    "`d[key]`       | gets the value stored in `d` at index `key`        \n",
    "`d[key]= value`| sets `d`’s value at index `key` as value          \n",
    "`key in d`     | gives `True` if `key` is in `d`, else gives `False`\n",
    "`key not in d` | gives `True` if `key` is not in `d`, else gives `False`\n",
    "`len(d)`       | gives the number of stored data in `d`             \n",
    "`dict.copy()`  | return a complete copy of `dict`                   \n",
    "\n",
    "\n",
    "Notice that the keys in a dictionary must be **immutable**, so `str`, `int` or `tuple` can be used as keys, but `list` can not.\n",
    "\n",
    "Further information see: [Dictionaries](http://greenteapress.com/thinkpython2/html/thinkpython2012.html)"
   ]
  },
  {
   "cell_type": "code",
   "execution_count": null,
   "metadata": {
    "collapsed": true
   },
   "outputs": [],
   "source": [
    "d = {\"earth\":1, \"mars\":2, \"halley\":3} \n",
    "print(d)\n",
    "print(d[\"earth\"])\n",
    "d[\"sun\"] = \"s\"\n",
    "print(d)\n",
    "del d[\"earth\"] \n",
    "print(d)\n",
    "print(\"earth\" in d) \n",
    "print(\"earth\" not in d) \n",
    "print(len(d))"
   ]
  },
  {
   "cell_type": "markdown",
   "metadata": {},
   "source": [
    "We can retreive key-value pairs by  iterate through a dictionary as"
   ]
  },
  {
   "cell_type": "code",
   "execution_count": null,
   "metadata": {
    "collapsed": true
   },
   "outputs": [],
   "source": [
    "for i,j in d.items():\n",
    "    print(i,j)"
   ]
  },
  {
   "cell_type": "markdown",
   "metadata": {},
   "source": [
    "### Function \n",
    "\n",
    "Sometimes we find in our program that similar sequences of statements occur several times, and they only differ in the  parameters supplied. In programming, we usually define a `function` to collect the sequence of statements, and call this `function` in the program with different parameters. \n",
    "\n",
    "The syntax to define a function in Python is like this example, where `area` calculates the area of a rectangle:\n",
    "```\n",
    "def area(a,b):\n",
    "    c=a*b\n",
    "    return c\n",
    "\n",
    "```\n",
    "\n",
    "If there is no `return` statement, the function will return `None`. \n",
    "\n",
    "When you create a variable inside a function, it is **local**, which means that it only exists inside the function. \n",
    "\n",
    "Further information see: [Functions](http://greenteapress.com/thinkpython2/html/thinkpython2004.html)"
   ]
  },
  {
   "cell_type": "code",
   "execution_count": null,
   "metadata": {
    "collapsed": true
   },
   "outputs": [],
   "source": [
    "def area(a,b):\n",
    "    c=a*b\n",
    "    return c\n",
    "\n",
    "area(3,4)\n"
   ]
  },
  {
   "cell_type": "markdown",
   "metadata": {},
   "source": [
    "## Problem 1\n",
    "\n",
    "* Modify the following program that simulate the a spacecraft orbiting around the Earth. \n",
    "\n",
    "## Effect of the Initial Velocity\n",
    "\n",
    "\n",
    "* Approximately, what minimum initial speed is required so that the spacecraft **escapes** and never comes back? You may have to zoom out to see whether the spacecraft shows signs of coming back. You may also have to extend the time in the `while` statement.\n",
    "* What initial speed is required to make a nearly circular orbit around the Earth? You may wish to zoom out to examine the orbit more closely.   \n",
    "* How does increasing the initial speed affect the orbit? \n",
    "* How does decreasing the initial speed affect the orbit? \n",
    "\n",
    "\n",
    "\n",
    "## Adding an Arrow to Represent Force \n",
    "\n",
    "\n",
    "* Choose an initial speed that produces an elliptical orbit.\n",
    "* Add a second, different colored arrow representing the net force on the spacecraft.  This arrow should also move with the craft.  You'll need a different scale factor for this arrow.\n",
    "* Are the net force on the craft and the momentum of the craft in the same direction?\n",
    "* What is the relative direction of these arrows when the craft is slowing down?  \n",
    "* Speeding up?  \n",
    "* Draw a diagram showing the directions of the craft's momentum and the net force on the craft at 6 different locations along an elliptical orbit. At each location note whether the speed of the craft is increasing, decreasing, or momentarily not changing.\n",
    "\n"
   ]
  },
  {
   "cell_type": "code",
   "execution_count": null,
   "metadata": {},
   "outputs": [
    {
     "data": {
      "application/javascript": [
       "require.undef(\"nbextensions/vpython_libraries/glow.min\");"
      ],
      "text/plain": [
       "<IPython.core.display.Javascript object>"
      ]
     },
     "metadata": {},
     "output_type": "display_data"
    },
    {
     "data": {
      "application/javascript": [
       "require.undef(\"nbextensions/vpython_libraries/glowcomm\");"
      ],
      "text/plain": [
       "<IPython.core.display.Javascript object>"
      ]
     },
     "metadata": {},
     "output_type": "display_data"
    },
    {
     "data": {
      "application/javascript": [
       "require.undef(\"nbextensions/vpython_libraries/jquery-ui.custom.min\");"
      ],
      "text/plain": [
       "<IPython.core.display.Javascript object>"
      ]
     },
     "metadata": {},
     "output_type": "display_data"
    },
    {
     "data": {
      "application/javascript": [
       "require([\"nbextensions/vpython_libraries/glow.min\"], function(){console.log(\"GLOW LOADED\");})"
      ],
      "text/plain": [
       "<IPython.core.display.Javascript object>"
      ]
     },
     "metadata": {},
     "output_type": "display_data"
    },
    {
     "data": {
      "application/javascript": [
       "require([\"nbextensions/vpython_libraries/glowcomm\"], function(){console.log(\"GLOWCOMM LOADED\");})"
      ],
      "text/plain": [
       "<IPython.core.display.Javascript object>"
      ]
     },
     "metadata": {},
     "output_type": "display_data"
    },
    {
     "data": {
      "application/javascript": [
       "require([\"nbextensions/vpython_libraries/jquery-ui.custom.min\"], function(){console.log(\"JQUERY LOADED\");})"
      ],
      "text/plain": [
       "<IPython.core.display.Javascript object>"
      ]
     },
     "metadata": {},
     "output_type": "display_data"
    },
    {
     "data": {
      "text/html": [
       "<div id=\"glowscript\" class=\"glowscript\"></div>"
      ],
      "text/plain": [
       "<IPython.core.display.HTML object>"
      ]
     },
     "metadata": {},
     "output_type": "display_data"
    },
    {
     "data": {
      "application/javascript": [
       "window.__context = { glowscript_container: $(\"#glowscript\").removeAttr(\"id\")}"
      ],
      "text/plain": [
       "<IPython.core.display.Javascript object>"
      ]
     },
     "metadata": {},
     "output_type": "display_data"
    }
   ],
   "source": [
    "from vpython import *\n",
    "scene.width = scene.height = 800\n",
    "\n",
    "G = 6.7e-11\n",
    "mEarth = 6e24\n",
    "mcraft = 15e3\n",
    "deltat = 60\n",
    "\n",
    "Earth = sphere(pos=vector(0,0,0), radius=6.4e6, color=color.cyan)\n",
    "craft = sphere(pos=vector(-10*Earth.radius, 0,0), radius=1e6,\n",
    "               color=color.yellow, make_trail=True)\n",
    "vcraft = vector(0,2506,0)\n",
    "pcraft = mcraft*vcraft\n",
    "force_pointer = arrow(pos =craft.pos,color = color.red, shaftwidth=8e5)\n",
    "p_pointer = arrow(pos = craft.pos, axis = pcraft, color = color.magenta, shaftwidth = 8e5)\n",
    "t = 0\n",
    "scene.autoscale = False ##turn off automatic camera zoom\n",
    "\n",
    "while t < 10*365*24*60*60:\n",
    "    rate(500)    \n",
    "    F = -((G*mEarth*mcraft)/(mag(craft.pos - Earth.pos)*mag(craft.pos - Earth.pos)))* norm(craft.pos - Earth.pos)\n",
    "    pcraft += F * deltat\n",
    "    craft.pos = craft.pos + (pcraft/mcraft)*deltat\n",
    "    p_pointer.pos = craft.pos\n",
    "    p_pointer.axis = pcraft\n",
    "    force_pointer.pos = craft.pos\n",
    "    force_pointer.axis = 2e4*F\n",
    "    t = t+deltat"
   ]
  },
  {
   "cell_type": "markdown",
   "metadata": {},
   "source": [
    "## Problem 2\n",
    "\n",
    "Now that we understand how the initial velocity affects the orbit, we are ready to simulate the solar system. We first collect some data from the internet. \n",
    "\n",
    "### Colllect Data\n",
    "\n",
    "* Construct a dictionary `mass` that contains the masses of `sun`, `earth`, and `mars`. \n",
    "\n",
    "* Constract a dictionary `radius` that contains the radii of `sun`, `earth`, and `mars`.\n",
    "\n",
    "* Construct a dictionary `d_at_peri` that contains the distances  `earth` and `mars` relative to the sun, respectively, when they are at the perihelion. \n",
    "\n",
    "* Construct a dictionary `semimajor` that contains the semi-major axes of `earth` ane `mars` orbits. \n",
    "Google to find these values.\n",
    "\n",
    "* Construct a dictionary `v_at_peri` that contain  the velocities of `earth` and `mars` relative to the sun, respectively, when they are at the perihelion. \n",
    "\n",
    " \n",
    "One can calculate the perihelion velocities using the formula for the velocity of an object at some distance `r` from the Sun:\n",
    "\n",
    "$$ v^2 = G M (2/r - 1/a)$$\n",
    "\n",
    "Where `G` is the universal gravitational constant, `M` is the mass of the Sun, and `a` is the planet's semimajor axis.\n",
    "\n"
   ]
  },
  {
   "cell_type": "code",
   "execution_count": 1,
   "metadata": {
    "collapsed": true
   },
   "outputs": [],
   "source": [
    "G = 6.7e-11\n",
    "AU = 1.496e11 \n",
    "mass= {\"sun\": 1.9891e30 , \"earth\":5.972e24 , \"mars\":6.39e23}\n",
    "radius={\"sun\":695700000 , \"earth\":6371000, \"mars\":3390000}\n",
    "d_at_peri={\"earth\":0.98329*AU , \"mars\":1.3814*AU}\n",
    "semimajor={\"earth\":AU, \"mars\":1.524*AU}\n",
    "v_at_peri={\"earth\":3.03e4 , \"mars\":2.65e4}"
   ]
  },
  {
   "cell_type": "markdown",
   "metadata": {},
   "source": [
    "### Define  functions\n",
    "\n",
    "### Force \n",
    "Construct a function `F_grav(m, r_pos)` that returns the force vector exerted on an object of mass `m` by the sun when it is at `r_pos`. Test your function for the earth when `r_pos= vector(d_at_peri['earth'], 0, 0)` in `F_grav(mass['earth'], r_pos)`."
   ]
  },
  {
   "cell_type": "code",
   "execution_count": 2,
   "metadata": {
    "collapsed": true
   },
   "outputs": [],
   "source": [
    "def F_grav(m,r_pos) :\n",
    "\t    F = norm(-r_pos)*(G*mass[\"sun\"]*m/(mag(r_pos)**2))\n",
    "\t    return F"
   ]
  },
  {
   "cell_type": "markdown",
   "metadata": {},
   "source": [
    "### Potential energy\n",
    "Now construct a function `U_grav(m,r)`  that returns the potential energy between an object of mass `m` and the sun when they are separated by distance `r`\n"
   ]
  },
  {
   "cell_type": "code",
   "execution_count": 3,
   "metadata": {
    "collapsed": true
   },
   "outputs": [],
   "source": [
    "def U_grav(m,r) :\n",
    "\t    U = -G*mass[\"sun\"]*m/(mag(r))\n",
    "\t    return U"
   ]
  },
  {
   "cell_type": "markdown",
   "metadata": {},
   "source": [
    "### Kinetic energy\n",
    "Now construct a function `E_k(m,v)`  that returns the kinetic energy of an object of mass `m` with velocity `v`. Assume $v\\ll c$.\n"
   ]
  },
  {
   "cell_type": "code",
   "execution_count": 4,
   "metadata": {
    "collapsed": true
   },
   "outputs": [],
   "source": [
    "def E_k(m,v) :\n",
    "\t    E = 0.5 * m * (mag(v)**2)\n",
    "\t    return E    "
   ]
  },
  {
   "cell_type": "markdown",
   "metadata": {
    "collapsed": true
   },
   "source": [
    "## Problem 3\n",
    "Assuming Sun is fixed and neglecting the interaction between  Earth and Mars, simulate the orbits of Earth and Mars with initial positions at perihelion and initial velocities given by `v_at_peri`.  \n",
    "\n",
    "** Note **: To make the objects visiable, we set the Sun radius by 10 times, and the planet radii by 300 times.\n",
    "* Numerically determine the periods of Earth and Mars, and compute $T^3/a^2$ for each planet, where $T$ is the period and $a$ is the semi-major axis. \n",
    "* Numerically compute the work done on Earth by the gravtiational force for 3 Earth year. Plot work done on Earth $W$,  changes in kinetic energy $\\Delta K=K_f-K_i$ and potential energy $\\Delta U=U_f-U_i$ of Earth as a function of time. \n",
    "* Do the same for Mars.\n",
    "\n",
    "    \n",
    "** Note **: position and velocity are both vector, while  `d_at_peri` and `v_at_peri` store numbers. \n",
    "\n",
    "** Hint ** : You need to approximate work by adding up amount of work done by gravitational force along each step of the path:\n",
    "$$ W=\\sum \\mathbf{F}\\cdot \\Delta \\mathbf{r} = \\mathbf{F}_1\\cdot \\Delta \\mathbf{r}_1 + \\mathbf{F}_2\\cdot \\Delta \\mathbf{r}_2 +\\cdots $$\n"
   ]
  },
  {
   "cell_type": "code",
   "execution_count": 5,
   "metadata": {
    "scrolled": false
   },
   "outputs": [
    {
     "data": {
      "text/html": [
       "<div id=\"glowscript\" class=\"glowscript\"></div>"
      ],
      "text/plain": [
       "<IPython.core.display.HTML object>"
      ]
     },
     "metadata": {},
     "output_type": "display_data"
    },
    {
     "data": {
      "application/javascript": [
       "window.__context = { glowscript_container: $(\"#glowscript\").removeAttr(\"id\")}"
      ],
      "text/plain": [
       "<IPython.core.display.Javascript object>"
      ]
     },
     "metadata": {},
     "output_type": "display_data"
    }
   ],
   "source": [
    "from vpython import *\n",
    "scene=canvas(height=600,width=800)\n",
    "g1=graph(scene=scene,width=400,height=200,ytitle='E',xtitle='t') # Create a graph for plotting\n",
    "gc11=gcurve(graph=g1,color=color.cyan,dot=True) \n",
    "gc12=gcurve(graph=g1,color=color.red,dot=True) \n",
    "gc13=gcurve(graph=g1,color=color.blue,dot=True) \n",
    "\n",
    "g2=graph(scene=scene,width=400,height=200,ytitle='E',xtitle='t') # Create a graph for plotting\n",
    "gc21=gcurve(graph=g2,color=color.cyan,dot=True)\n",
    "gc22=gcurve(graph=g2,color=color.red,dot=True)\n",
    "gc23=gcurve(graph=g2,color=color.blue,dot=True)"
   ]
  },
  {
   "cell_type": "code",
   "execution_count": null,
   "metadata": {
    "collapsed": true
   },
   "outputs": [],
   "source": [
    "Sun=sphere(radius=10*radius['sun'],pos=vec(0,0,0),color=color.yellow)\n",
    "Earth=sphere(radius=300*radius['earth'],pos=vec(d_at_peri['earth'],0,0),color=color.green,\n",
    "                make_trail=True)\n",
    "Mars=sphere(radius=300*radius['mars'],pos=vec(d_at_peri['mars'],0,0),color=color.orange,  \n",
    "           make_trail=True)\n",
    "\n",
    "scene.userzoom=False ## Turn off Zoom\n",
    "p_earth =vector(0,v_at_peri[\"earth\"],0) * mass[\"earth\"] \n",
    "p_mars = vector(0,v_at_peri[\"mars\"],0) * mass[\"mars\"] \n",
    "old_earth_pos = Earth.pos\n",
    "old_mars_pos = Mars.pos\n",
    "earth_U = U_grav(mass[\"earth\"],Earth.pos)\n",
    "earth_K = E_k(mass[\"earth\"],p_earth/mass[\"earth\"])\n",
    "mars_U = U_grav(mass[\"mars\"],Mars.pos)\n",
    "mars_K = E_k(mass[\"mars\"],p_mars/mass[\"mars\"])\n",
    "old_earth_U = earth_U\n",
    "old_mars_U = mars_U\n",
    "old_earth_K = earth_K\n",
    "old_mars_K = mars_K\n",
    "W_earth= 0\n",
    "W_mars=0\n",
    "t=0\n",
    "dt=1000\n",
    "\n",
    "while t<365*24*60*60*3:\n",
    "    rate(1000)\n",
    "    f_earth=F_grav(mass[\"earth\"],Earth.pos)\n",
    "    f_mars=F_grav(mass[\"mars\"],Mars.pos)\n",
    "    p_earth+=f_earth*dt\n",
    "    p_mars+=f_mars*dt\n",
    "    Earth.pos += (p_earth/mass[\"earth\"]) * dt\n",
    "    Mars.pos += (p_mars/mass[\"mars\"]) * dt\n",
    "    W_earth += mag(f_earth) * mag(Earth.pos-old_earth_pos)\n",
    "    W_mars += mag(f_mars) * mag(Mars.pos-old_mars_pos)\n",
    "    earth_U = U_grav(mass[\"earth\"],Earth.pos)\n",
    "    earth_K = E_k(mass[\"earth\"],(p_earth/mass[\"earth\"]))\n",
    "    mars_U = U_grav(mass[\"mars\"],Mars.pos)\n",
    "    mars_K = E_k(mass[\"mars\"],(p_mars/mass[\"mars\"]))\n",
    "    delta_earth_K = earth_K - old_earth_K\n",
    "    delta_mars_K = mars_K - old_mars_K\n",
    "    delta_earth_U = earth_U - old_earth_U\n",
    "    delta_mars_U = mars_U - old_mars_U\n",
    "    gc11.plot(pos=(t,W_earth))\n",
    "    gc21.plot(pos=(t,W_mars))\n",
    "    gc12.plot(pos=(t,delta_earth_K))\n",
    "    gc22.plot(pos=(t,delta_mars_K))\n",
    "    gc13.plot(pos=(t,delta_earth_U))\n",
    "    gc23.plot(pos=(t,delta_mars_U))\n",
    "    old_earth_U = earth_U\n",
    "    old_mars_U = mars_U\n",
    "    old_earth_K = earth_K\n",
    "    old_mars_K = mars_K\n",
    "    old_earth_pos = Earth.pos\n",
    "    old_mars_pos = Mars.pos\n",
    "    t+=dt"
   ]
  },
  {
   "cell_type": "markdown",
   "metadata": {},
   "source": [
    "## Problem 4 (Bonus)\n",
    "Now we want to send a spacecraft of mass 482.5 kg from the Earth to Mars. Assume first the spacecraft orbiting the sun with the Earth (neglect the orbital motion of the space around the Earth).  We need to fire the engine of the spacecraft to give it a boost into a trans-Mars orbit. Let us assume the impulse is instantaneous and the change in the velocity is $\\Delta v_1$. \n",
    "\n",
    "When the spacecraft reaches the Mars orbit, the engine fires again and   the change in the spacecraft velocity is $\\Delta v_2$. Neglect the gravitational forces from the Earth and Mars. Experiment to find the time $t_{\\rm launch}$ to launch the spacescraft from  the earth,  velocity changes $\\Delta v_1$, $\\Delta v_2$, and the travel time $T_{\\rm travel}$ from  Earth to Mars.\n",
    "\n",
    "![](Figure1.jpg)"
   ]
  },
  {
   "cell_type": "code",
   "execution_count": 1,
   "metadata": {},
   "outputs": [
    {
     "data": {
      "application/javascript": [
       "require.undef(\"nbextensions/vpython_libraries/glow.min\");"
      ],
      "text/plain": [
       "<IPython.core.display.Javascript object>"
      ]
     },
     "metadata": {},
     "output_type": "display_data"
    },
    {
     "data": {
      "application/javascript": [
       "require.undef(\"nbextensions/vpython_libraries/glowcomm\");"
      ],
      "text/plain": [
       "<IPython.core.display.Javascript object>"
      ]
     },
     "metadata": {},
     "output_type": "display_data"
    },
    {
     "data": {
      "application/javascript": [
       "require.undef(\"nbextensions/vpython_libraries/jquery-ui.custom.min\");"
      ],
      "text/plain": [
       "<IPython.core.display.Javascript object>"
      ]
     },
     "metadata": {},
     "output_type": "display_data"
    },
    {
     "data": {
      "application/javascript": [
       "require([\"nbextensions/vpython_libraries/glow.min\"], function(){console.log(\"GLOW LOADED\");})"
      ],
      "text/plain": [
       "<IPython.core.display.Javascript object>"
      ]
     },
     "metadata": {},
     "output_type": "display_data"
    },
    {
     "data": {
      "application/javascript": [
       "require([\"nbextensions/vpython_libraries/glowcomm\"], function(){console.log(\"GLOWCOMM LOADED\");})"
      ],
      "text/plain": [
       "<IPython.core.display.Javascript object>"
      ]
     },
     "metadata": {},
     "output_type": "display_data"
    },
    {
     "data": {
      "application/javascript": [
       "require([\"nbextensions/vpython_libraries/jquery-ui.custom.min\"], function(){console.log(\"JQUERY LOADED\");})"
      ],
      "text/plain": [
       "<IPython.core.display.Javascript object>"
      ]
     },
     "metadata": {},
     "output_type": "display_data"
    },
    {
     "data": {
      "text/html": [
       "<div id=\"glowscript\" class=\"glowscript\"></div>"
      ],
      "text/plain": [
       "<IPython.core.display.HTML object>"
      ]
     },
     "metadata": {},
     "output_type": "display_data"
    },
    {
     "data": {
      "application/javascript": [
       "window.__context = { glowscript_container: $(\"#glowscript\").removeAttr(\"id\")}"
      ],
      "text/plain": [
       "<IPython.core.display.Javascript object>"
      ]
     },
     "metadata": {},
     "output_type": "display_data"
    }
   ],
   "source": [
    "from vpython import *\n",
    "scene.width = scene.height = 800\n",
    "scene.autoscale = True \n",
    "scene.userzoom = True \n",
    "\n",
    "G = 6.7e-11\n",
    "AU = 1.496e11 \n",
    "deltat = 60\n",
    "t = 0\n",
    "\n",
    "mass=  {\"sun\": 1.9891e30 , \"earth\":5.972e24 , \"mars\":6.39e23, \"craft\":482.5}\n",
    "radius={\"sun\":695700000 , \"earth\":6371000, \"mars\":3390000}\n",
    "d_at_peri={\"earth\":0.98329*AU , \"mars\":1.3814*AU}\n",
    "semimajor={\"earth\":AU, \"mars\":1.524*AU}\n",
    "v_at_peri={\"earth\":3.03e4 , \"mars\":2.65e4}\n",
    "\n",
    "def F_grav(m,r_pos) :\n",
    "\t    F = norm(-r_pos)*(G*mass[\"sun\"]*m/(mag(r_pos)**2))\n",
    "\t    return F\n",
    "def U_grav(m,r) :\n",
    "\t    U = -G*mass[\"sun\"]*m/(mag(r))\n",
    "\t    return U\n",
    "def E_k(m,v) :\n",
    "\t    E = 0.5 * m * (mag(v)**2)\n",
    "\t    return E\n",
    "\n",
    "Sun=sphere(radius=10*radius[\"sun\"],pos=vector(0,0,0),color=color.yellow)\n",
    "Earth=sphere(radius=300*radius[\"earth\"],pos=vector(d_at_peri[\"earth\"],0,0),color=color.green, make_trail=True)\n",
    "Mars=sphere(radius=300*radius[\"mars\"],pos=vector(d_at_peri[\"mars\"],0,0),color=color.orange,make_trail=True)\n",
    "craft=sphere(radius=Mars.radius, pos = Earth.pos, color = color.white,make_trail=True)\n",
    "scene.userzoom=True\n",
    "p_earth =vector(0,v_at_peri[\"earth\"],0) * mass[\"earth\"] \n",
    "p_mars = vector(0,v_at_peri[\"mars\"],0) * mass[\"mars\"] \n",
    "v_craft = p_earth / mass[\"earth\"]\n",
    "p_craft=mass[\"craft\"] * v_craft\n",
    "t=0\n",
    "dt=1000\n",
    "\n",
    "initial = vector(d_at_peri[\"earth\"],0,0)\n",
    "\n",
    "while t < 365*24*60*60*5 :\n",
    "    rate(5000)\n",
    "    f_earth=F_grav(mass[\"earth\"],Earth.pos)\n",
    "    f_mars=F_grav(mass[\"mars\"],Mars.pos)\n",
    "    f_craft=F_grav(mass[\"craft\"],craft.pos)\n",
    "    p_earth+=f_earth*dt\n",
    "    p_mars+=f_mars*dt\n",
    "    p_craft+=f_craft*dt\n",
    "    Earth.pos += (p_earth/mass[\"earth\"]) * dt\n",
    "    Mars.pos += (p_mars/mass[\"mars\"]) * dt\n",
    "    craft.pos += (p_craft/mass[\"craft\"]) * dt\n",
    "    t+=dt  \n",
    "    if t == 365*48*60*60:\n",
    "        v_craft = vector(0,34300,0) \n",
    "        p_craft = mass[\"craft\"] * v_craft\n",
    "    if t == 365*24*60*60*2 + 60*60*24*140:\n",
    "        craft.pos = Mars.pos\n",
    "        v_craft = p_mars/mass[\"mars\"] \n",
    "        p_craft = mass[\"craft\"] * v_craft\n",
    "    "
   ]
  },
  {
   "cell_type": "code",
   "execution_count": null,
   "metadata": {
    "collapsed": true
   },
   "outputs": [],
   "source": []
  }
 ],
 "metadata": {
  "anaconda-cloud": {},
  "kernelspec": {
   "display_name": "VPython",
   "language": "python",
   "name": "vpython"
  },
  "language_info": {
   "codemirror_mode": {
    "name": "ipython",
    "version": 3
   },
   "file_extension": ".py",
   "mimetype": "text/x-python",
   "name": "python",
   "nbconvert_exporter": "python",
   "pygments_lexer": "ipython3",
   "version": "3.6.2"
  }
 },
 "nbformat": 4,
 "nbformat_minor": 1
}
